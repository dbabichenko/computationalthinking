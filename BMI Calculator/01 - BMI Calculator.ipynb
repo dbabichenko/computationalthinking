{
 "cells": [
  {
   "cell_type": "markdown",
   "metadata": {},
   "source": [
    "**BODY MASS INDEX CALCULATOR **\n",
    "\n",
    "Body mass index (BMI) is a measure of body fat based on height and weight that\n",
    "applies to adult men and women.\n",
    "BMI Categories:\n",
    "\tUnderweight = <18.5\n",
    "\tNormal weight = 18.5 - 24.9\n",
    "\tOverweight = 25 - 29.9\n",
    "\tObesity = BMI of 30 or greater\n",
    "\n",
    "\tEnglish BMI Formula (Imperial)\n",
    "\t\tBMI = (Weight in Pounds / (Height in inches x Height in inches)) x 703"
   ]
  },
  {
   "cell_type": "code",
   "execution_count": 1,
   "metadata": {},
   "outputs": [
    {
     "name": "stdout",
     "output_type": "stream",
     "text": [
      "Please enter your weight in pounds:50\n",
      "Weight: 50\n"
     ]
    }
   ],
   "source": [
    "# Ask user to enter his/her weight in pounds\n",
    "weightInput = input(\"Please enter your weight in pounds:\")\n",
    "\n",
    "print(\"Weight: \" + str(weightInput))"
   ]
  },
  {
   "cell_type": "code",
   "execution_count": 2,
   "metadata": {},
   "outputs": [
    {
     "name": "stdout",
     "output_type": "stream",
     "text": [
      "Please enter your height in inches:56\n",
      "Height: 56\n"
     ]
    }
   ],
   "source": [
    "# Ask user to enter his/her height in inches\n",
    "heightInput = input(\"Please enter your height in inches:\")\n",
    "\n",
    "print(\"Height: \" + str(heightInput))"
   ]
  },
  {
   "cell_type": "code",
   "execution_count": 3,
   "metadata": {},
   "outputs": [
    {
     "ename": "NameError",
     "evalue": "name 'x' is not defined",
     "output_type": "error",
     "traceback": [
      "\u001b[1;31m---------------------------------------------------------------------------\u001b[0m",
      "\u001b[1;31mNameError\u001b[0m                                 Traceback (most recent call last)",
      "\u001b[1;32m<ipython-input-3-84e9ad2eab7d>\u001b[0m in \u001b[0;36m<module>\u001b[1;34m()\u001b[0m\n\u001b[0;32m     10\u001b[0m \u001b[1;33m\u001b[0m\u001b[0m\n\u001b[0;32m     11\u001b[0m \u001b[1;31m#Print results\u001b[0m\u001b[1;33m\u001b[0m\u001b[1;33m\u001b[0m\u001b[0m\n\u001b[1;32m---> 12\u001b[1;33m \u001b[0mprint\u001b[0m\u001b[1;33m(\u001b[0m\u001b[0mbmi\u001b[0m \u001b[1;33m+\u001b[0m \u001b[0mx\u001b[0m\u001b[1;33m)\u001b[0m\u001b[1;33m\u001b[0m\u001b[0m\n\u001b[0m",
      "\u001b[1;31mNameError\u001b[0m: name 'x' is not defined"
     ]
    }
   ],
   "source": [
    "# Values entered through user input are stored as strings (String data type).  We need to\n",
    "# convert weight and height from String to float\n",
    "weight = float(weightInput)\n",
    "height = float(heightInput)\n",
    "\n",
    "# Calculate BMI\n",
    "# Note that ** (double asterisk) is an exponent operand.  It performs exponential (power) calculation on operators\n",
    "bmi = (weight  / (height ** 2)) * 703\n",
    "\n",
    "\n",
    "#Print results\n",
    "print(bmi + x)"
   ]
  },
  {
   "cell_type": "code",
   "execution_count": null,
   "metadata": {
    "collapsed": true
   },
   "outputs": [],
   "source": []
  }
 ],
 "metadata": {
  "kernelspec": {
   "display_name": "Python 3",
   "language": "python",
   "name": "python3"
  },
  "language_info": {
   "codemirror_mode": {
    "name": "ipython",
    "version": 3
   },
   "file_extension": ".py",
   "mimetype": "text/x-python",
   "name": "python",
   "nbconvert_exporter": "python",
   "pygments_lexer": "ipython3",
   "version": "3.6.3"
  }
 },
 "nbformat": 4,
 "nbformat_minor": 2
}
