{
 "cells": [
  {
   "cell_type": "markdown",
   "metadata": {},
   "source": [
    "** BMI CALCULATOR - CHALLENGE 2 **\n",
    "\n",
    "Body mass index (BMI) is a measure of body fat based on height and weight that\n",
    "applies to adult men and women.\n",
    "BMI Categories:\n",
    "\tUnderweight = <18.5\n",
    "\tNormal weight = 18.5 - 24.9\n",
    "\tOverweight = 25 - 29.9\n",
    "\tObesity = BMI of 30 or greater\n",
    "\n",
    "\tEnglish BMI Formula (Imperial)\n",
    "\t\tBMI = (Weight in Pounds / (Height in inches x Height in inches)) x 703\n",
    "\n",
    "Challenge: Most people do not know what the numeric value of BMI means for\n",
    "them and for their health.  Add an if/else block to this program to display\n",
    "the results as a label described above in the \"BMI Categories\" section.\n",
    "For example, if the user's BMI is 19, print \"Normal weight\"."
   ]
  },
  {
   "cell_type": "code",
   "execution_count": 1,
   "metadata": {},
   "outputs": [
    {
     "name": "stdout",
     "output_type": "stream",
     "text": [
      "Please enter your weight in pounds:150\n",
      "Weight: 150\n"
     ]
    }
   ],
   "source": [
    "# Ask user to enter his/her weight in pounds\n",
    "weightInput = input(\"Please enter your weight in pounds:\")\n",
    "\n",
    "print(\"Weight: \" + weightInput)"
   ]
  },
  {
   "cell_type": "code",
   "execution_count": 2,
   "metadata": {},
   "outputs": [
    {
     "name": "stdout",
     "output_type": "stream",
     "text": [
      "Please enter your height in inches:120\n",
      "Height: 120\n"
     ]
    }
   ],
   "source": [
    "# Ask user to enter his/her height in inches\n",
    "heightInput = input(\"Please enter your height in inches:\")\n",
    "\n",
    "print(\"Height: \" + heightInput)"
   ]
  },
  {
   "cell_type": "code",
   "execution_count": 4,
   "metadata": {},
   "outputs": [
    {
     "name": "stdout",
     "output_type": "stream",
     "text": [
      "7\n"
     ]
    }
   ],
   "source": [
    "# Values entered through user input are stored as strings (String data type).  We need to\n",
    "# convert weight and height from String to float\n",
    "weight = float(weightInput)\n",
    "height = float(heightInput)\n",
    "\t\t\n",
    "# Calculate BMI\n",
    "# Note that ** (double asterisk) is an exponent operand.  It performs exponential (power) calculation on operators\n",
    "bmi = (weight  / (height ** 2)) * 703\n",
    "\n",
    "# Round BMI\n",
    "bmi = round(bmi)\n",
    "\n",
    "# Convert to integer\n",
    "resultBmi = int(bmi)\n",
    "\n",
    "# Print BMI\n",
    "print(resultBmi)"
   ]
  },
  {
   "cell_type": "code",
   "execution_count": null,
   "metadata": {
    "collapsed": true
   },
   "outputs": [],
   "source": [
    "# Print results\n",
    "\n",
    "print(\"Your BMI is \" + str(resultBmi) + \".\")\n",
    "\n",
    "if bmi < 18.5:\n",
    "    print(\"You are underweight.\")\n",
    "elif bmi <= 18.5 and bmi >= 24.9:\n",
    "    print(\"Your weigt is within normal range\")\n",
    "elif bmi <= 25 and bmi >= 29.9:\n",
    "    print(\"You are overweight\")\n",
    "else:\n",
    "    print(\"You are obese!\")"
   ]
  }
 ],
 "metadata": {
  "kernelspec": {
   "display_name": "Python 3",
   "language": "python",
   "name": "python3"
  },
  "language_info": {
   "codemirror_mode": {
    "name": "ipython",
    "version": 3
   },
   "file_extension": ".py",
   "mimetype": "text/x-python",
   "name": "python",
   "nbconvert_exporter": "python",
   "pygments_lexer": "ipython3",
   "version": "3.6.3"
  }
 },
 "nbformat": 4,
 "nbformat_minor": 2
}
