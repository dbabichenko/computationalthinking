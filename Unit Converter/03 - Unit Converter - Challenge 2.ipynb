{
 "cells": [
  {
   "cell_type": "markdown",
   "metadata": {},
   "source": [
    "** Unit Converter **\n",
    "\n",
    "This program converts temperature from degrees Celsius to degrees Fahrenheit and vice versa.\n",
    "The conversion direction is determined by temperature units - when user enters a temperature\n",
    "value followed by the letter 'F' (ex: 100 F), the program will convert from Fahrenheit to Celsius.\n",
    "If user enters a temperature value followed by the letter 'C' (ex: 50 C), the program will convert\n",
    "from Celsius to Fahrenheit. In the original problem statement, the temperature value and the units were\n",
    "separated by a space.\n",
    "\n",
    "** CHALLENGE **\n",
    "\n",
    "Modify the program to deal with any number of spaces (or complete lack of spaces) \n",
    "that separate the temperature value from the units.  \n",
    "For example, your program should be able to deal with input such as '100    F' or '100F'"
   ]
  },
  {
   "cell_type": "code",
   "execution_count": 1,
   "metadata": {
    "collapsed": true
   },
   "outputs": [],
   "source": [
    "# Declare variables\n",
    "temperature = 0\n",
    "units = ''\n",
    "convertedTemperature = 0\n",
    "message = ''"
   ]
  },
  {
   "cell_type": "code",
   "execution_count": null,
   "metadata": {},
   "outputs": [],
   "source": [
    "# Create a message that user will see as part of the input dialog\n",
    "message = \"Please enter temperature in either degrees Celsius or Fahrenheit.\\n\"\n",
    "message += \"Enter the numeric temperature value followed by the units.\\nEnter 'C' if your input is \"\n",
    "message += \"in degrees Celsius or 'F' if your input is degrees Fahrenheit:\"\n",
    "\t\t\n",
    "    \n",
    "# Get user input\n",
    "input = input(message)\n",
    "\n",
    "print(\"You entered \" + input)"
   ]
  },
  {
   "cell_type": "code",
   "execution_count": null,
   "metadata": {},
   "outputs": [],
   "source": [
    "# Find the index (position within input string) of the space character (\" \").\n",
    "spacePositionIndex = input.find(' ')\n",
    "\n",
    "# If find() function does not find a space, it will return negative one (-1)\n",
    "if spacePositionIndex != -1:\n",
    "\n",
    "\t# Assume that everything that precedes a space is the numeric temperature value\n",
    "\ttemperature = float(input[0:spacePositionIndex])\n",
    "\n",
    "\n",
    "\t# Assume that everything that follows a space is the units\n",
    "\t# However, because we can no longer assume that there is only one space that separates\n",
    "\t# temperature value from its units, we need to remove any preceding spaces by calling\n",
    "\t# the strip() function\n",
    "\tunits = input[spacePositionIndex + 1:].strip()\n",
    "else:\n",
    "\t# Assume that the last character is the temperature units\n",
    "\tunits = input[-1:]\n",
    "\ttemperature = float(input[:-1])"
   ]
  },
  {
   "cell_type": "code",
   "execution_count": null,
   "metadata": {},
   "outputs": [],
   "source": [
    "# Convert temperature based on units\n",
    "if units == \"F\" or units == \"f\":\n",
    "\t# Convert from Fahrenheit to Celsius\n",
    "\tconvertedTemperature = (temperature - 32) * 5 / 9\n",
    "\tprint(str(temperature) + \" F = \" + str(convertedTemperature) + \" C.\")\n",
    "elif units == \"C\" or units == \"c\":\n",
    "\t# Convert from Celsius to Fahrenheit\n",
    "\tconvertedTemperature = temperature * (9/5) + 32;\n",
    "\tprint(str(temperature) + \" C = \" + str(convertedTemperature) + \" F.\")\n"
   ]
  },
  {
   "cell_type": "code",
   "execution_count": null,
   "metadata": {
    "collapsed": true
   },
   "outputs": [],
   "source": []
  }
 ],
 "metadata": {
  "kernelspec": {
   "display_name": "Python 3",
   "language": "python",
   "name": "python3"
  },
  "language_info": {
   "codemirror_mode": {
    "name": "ipython",
    "version": 3
   },
   "file_extension": ".py",
   "mimetype": "text/x-python",
   "name": "python",
   "nbconvert_exporter": "python",
   "pygments_lexer": "ipython3",
   "version": "3.6.3"
  }
 },
 "nbformat": 4,
 "nbformat_minor": 2
}
