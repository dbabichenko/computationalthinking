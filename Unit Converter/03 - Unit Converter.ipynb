{
 "cells": [
  {
   "cell_type": "markdown",
   "metadata": {},
   "source": [
    "** Unit Converter **\n",
    "\n",
    "This program converts temperature from degrees Celsius to degrees Fahrenheit and vice versa.\n",
    "The conversion direction is determined by temperature units - when user enters a temperature\n",
    "value followed by the letter 'F' (ex: 100 F), the program will convert from Fahrenheit to Celsius.\n",
    "If user enters a temperature value followed by the letter 'C' (ex: 50 C), the program will convert\n",
    "from Celsius to Fahrenheit. In this specific example, the temperature value and the units MUST be\n",
    "separated by a space."
   ]
  },
  {
   "cell_type": "code",
   "execution_count": null,
   "metadata": {
    "collapsed": true
   },
   "outputs": [],
   "source": [
    "# Declare variables\n",
    "temperature = 0\n",
    "units = ''\n",
    "convertedTemperature = 0\n",
    "message = ''"
   ]
  },
  {
   "cell_type": "code",
   "execution_count": null,
   "metadata": {},
   "outputs": [],
   "source": [
    "# Create a message that user will see as part of the input dialog\n",
    "message = \"Please enter temperature in either degrees Celsius or Fahrenheit.\\n\"\n",
    "message += \"Enter the numeric temperature value followed by the units.\\nEnter 'C' if your input is \"\n",
    "message += \"in degrees Celsius or 'F' if your input is degrees Fahrenheit:\"\n",
    "\t\t\n",
    "    \n",
    "# Get user input\n",
    "input = input(message)"
   ]
  },
  {
   "cell_type": "code",
   "execution_count": null,
   "metadata": {
    "collapsed": true
   },
   "outputs": [],
   "source": [
    "# Find the index (position within input string) of the space character (\" \").\n",
    "spacePositionIndex = input.find(' ')\n",
    "\n",
    "print(\"Index position of space character: \" + str(spacePositionIndex))"
   ]
  },
  {
   "cell_type": "code",
   "execution_count": null,
   "metadata": {
    "collapsed": true
   },
   "outputs": [],
   "source": [
    "# Assume that everything that precedes a space is the numeric temperature value\n",
    "temperature = float(input[0:spacePositionIndex])\n",
    "\n",
    "print(\"Temperature: \" + str(temperature))"
   ]
  },
  {
   "cell_type": "code",
   "execution_count": null,
   "metadata": {
    "collapsed": true
   },
   "outputs": [],
   "source": [
    "# Assume that everything that follows a space is the units\n",
    "units = input[spacePositionIndex + 1:]\n",
    "\n",
    "print(\"Units: \" + units)"
   ]
  },
  {
   "cell_type": "code",
   "execution_count": null,
   "metadata": {
    "collapsed": true
   },
   "outputs": [],
   "source": [
    "# Convert temperature based on units\n",
    "if units == \"F\" or units == \"f\":\n",
    "\t# Convert from Fahrenheit to Celsius\n",
    "\tconvertedTemperature = (temperature - 32) * 5 / 9\n",
    "\tprint(str(temperature) + \" F = \" + str(convertedTemperature) + \" C.\")\n",
    "elif units == \"C\" or units == \"c\":\n",
    "\t# Convert from Celsius to Fahrenheit\n",
    "\tconvertedTemperature = temperature * (9/5) + 32;\n",
    "\tprint(str(temperature) + \" C = \" + str(convertedTemperature) + \" F.\")"
   ]
  },
  {
   "cell_type": "code",
   "execution_count": null,
   "metadata": {
    "collapsed": true
   },
   "outputs": [],
   "source": []
  }
 ],
 "metadata": {
  "kernelspec": {
   "display_name": "Python 3",
   "language": "python",
   "name": "python3"
  },
  "language_info": {
   "codemirror_mode": {
    "name": "ipython",
    "version": 3
   },
   "file_extension": ".py",
   "mimetype": "text/x-python",
   "name": "python",
   "nbconvert_exporter": "python",
   "pygments_lexer": "ipython3",
   "version": "3.6.3"
  }
 },
 "nbformat": 4,
 "nbformat_minor": 2
}
