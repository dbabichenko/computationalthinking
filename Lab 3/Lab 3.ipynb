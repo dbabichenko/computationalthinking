{
 "cells": [
  {
   "cell_type": "code",
   "execution_count": 6,
   "metadata": {},
   "outputs": [
    {
     "name": "stdout",
     "output_type": "stream",
     "text": [
      "Ratio of the first solution:  0.01\n",
      "Ratio of the second solution:  0.0001\n",
      "Ratio of the third solution:  1e-06\n"
     ]
    }
   ],
   "source": [
    "# Declare and initialize a varialbe to hold the volume of an eyedropper\n",
    "eyedropper = 1\n",
    "\n",
    "# Declare and initialize a varialbe to hold the volume of a graduated cylinder\n",
    "# Fill the mixing cylinder with 100 ml of water.\n",
    "cylinder = 100\n",
    "\n",
    "# Declare a variable to hold ratio.  At this point we do not have a ratio value is 1:1\n",
    "# since we did not mix anything yet.\n",
    "ratio = 1\n",
    "\n",
    "# Step 1\n",
    "# Use an eyedropper to squeeze 1 drop of antivenom into the cylinder. \n",
    "ratio = eyedropper / cylinder\n",
    "print(\"Ratio of the first solution: \", ratio)\n",
    "# Since you know that 1 drop equals 1 ml of solution, you now have a solution \n",
    "# that is 1 part per 100, or 1 : 100.  \n",
    "\n",
    "\n",
    "# Step 2\n",
    "# Use a clean eye dropper to collect some of the new 1:100 solution; \n",
    "# then pour out the rest of the solution left inside the mixing cylinder. \n",
    "eyedropper = ratio\n",
    "# Rinse and refil the cylinder with 100 ml of water.\n",
    "cylinder = 100\n",
    "\n",
    "# Step 3\n",
    "# Use you eyedropper to squeeze out 1 drop of the 1:100 solution into the cylinder.  \n",
    "# Now the cylinder contains a solution that is 1 part per 10,000, or 1:10,000.  \n",
    "# Why? To get the new strengths of the solution, multipl the strengths of the solution \n",
    "# in the eyedropper (1/100) by the new strength of the solution in the mixing cylinder (1/100).\n",
    "# (1/100) * (1/100) = 1/10,000\n",
    "ratio = eyedropper / cylinder\n",
    "print(\"Ratio of the second solution: \", ratio)\n",
    "\n",
    "# Step 4\n",
    "# Use a clean eye dropper to collect some of the new 1:10,000 solution; \n",
    "# then pour out the rest of the solution left inside the mixing cylinder. \n",
    "eyedropper = ratio\n",
    "# Rinse and refil the cylinder with 100 ml of water.\n",
    "cylinder = 100\n",
    "\n",
    "# Step 5\n",
    "# Use your eye dropper to squeeze 1 drop of the 1:10,000 solution into the cylinder.  \n",
    "# Now the solution is...what?\n",
    "# (1/100) * (1/10,000) = 1/1,000,000 \n",
    "# The solution is now 1 part per 1,000,000\n",
    "ratio = eyedropper / cylinder\n",
    "print(\"Ratio of the third solution: \", ratio)\n",
    "\n"
   ]
  },
  {
   "cell_type": "code",
   "execution_count": 7,
   "metadata": {},
   "outputs": [
    {
     "name": "stdout",
     "output_type": "stream",
     "text": [
      "0.01\n",
      "0.0001\n",
      "1e-06\n"
     ]
    }
   ],
   "source": [
    "# Let's do the same thing with a loop\n",
    "\n",
    "eyedropper = 1\n",
    "cylinder = 100\n",
    "ratio = 1\n",
    "\n",
    "while ratio != (1/1000000):\n",
    "    ratio = eyedropper / cylinder\n",
    "    eyedropper = ratio\n",
    "    print(ratio)\n",
    "\n"
   ]
  },
  {
   "cell_type": "code",
   "execution_count": null,
   "metadata": {},
   "outputs": [],
   "source": []
  }
 ],
 "metadata": {
  "kernelspec": {
   "display_name": "Python 3",
   "language": "python",
   "name": "python3"
  },
  "language_info": {
   "codemirror_mode": {
    "name": "ipython",
    "version": 3
   },
   "file_extension": ".py",
   "mimetype": "text/x-python",
   "name": "python",
   "nbconvert_exporter": "python",
   "pygments_lexer": "ipython3",
   "version": "3.8.5"
  }
 },
 "nbformat": 4,
 "nbformat_minor": 4
}
