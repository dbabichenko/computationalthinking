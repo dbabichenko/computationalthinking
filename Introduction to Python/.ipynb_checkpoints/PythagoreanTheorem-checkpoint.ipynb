{
 "cells": [
  {
   "cell_type": "markdown",
   "metadata": {},
   "source": [
    "### Pythagorean Theorem\n",
    "* a^2 + b^2 = c^2: square of side A + square of side B = square of side C\n",
    "#### Solution algorithm\n",
    "1. Declare a variable to hold the legnth of side A\n",
    "2. Declare a variable to hold the legnth of side B\n",
    "3. Declare a variable to hold the calculated legnth of side C\n",
    "4. Raise side A to the power of 2\n",
    "5. Raise side B to the power of 2\n",
    "6. Add squares of A and B\n",
    "7. Take a square root of the sum of squares of A and B"
   ]
  },
  {
   "cell_type": "code",
   "execution_count": null,
   "metadata": {
    "collapsed": true
   },
   "outputs": [],
   "source": []
  },
  {
   "cell_type": "code",
   "execution_count": 4,
   "metadata": {
    "collapsed": true
   },
   "outputs": [],
   "source": [
    "import math"
   ]
  },
  {
   "cell_type": "code",
   "execution_count": 19,
   "metadata": {},
   "outputs": [
    {
     "name": "stdout",
     "output_type": "stream",
     "text": [
      "Please enter the length of side A: 10\n"
     ]
    }
   ],
   "source": [
    "a_input = input('Please enter the length of side A: ')"
   ]
  },
  {
   "cell_type": "code",
   "execution_count": 20,
   "metadata": {},
   "outputs": [
    {
     "name": "stdout",
     "output_type": "stream",
     "text": [
      "Please enter the length of side B: 50\n"
     ]
    }
   ],
   "source": [
    "b_input = input('Please enter the length of side B: ')"
   ]
  },
  {
   "cell_type": "code",
   "execution_count": 21,
   "metadata": {},
   "outputs": [
    {
     "name": "stdout",
     "output_type": "stream",
     "text": [
      "10\n",
      "50\n"
     ]
    }
   ],
   "source": [
    "print(a_input)\n",
    "print(b_input)"
   ]
  },
  {
   "cell_type": "code",
   "execution_count": 22,
   "metadata": {
    "scrolled": true
   },
   "outputs": [
    {
     "data": {
      "text/plain": [
       "'1050'"
      ]
     },
     "execution_count": 22,
     "metadata": {},
     "output_type": "execute_result"
    }
   ],
   "source": [
    "a_input + b_input"
   ]
  },
  {
   "cell_type": "code",
   "execution_count": 23,
   "metadata": {
    "collapsed": true
   },
   "outputs": [],
   "source": [
    "a = int(a_input)\n",
    "b = int(b_input)"
   ]
  },
  {
   "cell_type": "code",
   "execution_count": 24,
   "metadata": {},
   "outputs": [
    {
     "data": {
      "text/plain": [
       "60"
      ]
     },
     "execution_count": 24,
     "metadata": {},
     "output_type": "execute_result"
    }
   ],
   "source": [
    "a + b"
   ]
  },
  {
   "cell_type": "code",
   "execution_count": 25,
   "metadata": {
    "scrolled": true
   },
   "outputs": [
    {
     "name": "stdout",
     "output_type": "stream",
     "text": [
      "100\n",
      "2500\n",
      "2600\n",
      "50.99019513592785\n"
     ]
    }
   ],
   "source": [
    "a_square = a ** 2\n",
    "print(a_square)\n",
    "\n",
    "b_square = b ** 2\n",
    "print(b_square)\n",
    "\n",
    "sum_of_squares = a_square + b_square\n",
    "print(sum_of_squares)\n",
    "\n",
    "c = math.sqrt(sum_of_squares)\n",
    "print(c)"
   ]
  },
  {
   "cell_type": "code",
   "execution_count": null,
   "metadata": {
    "collapsed": true
   },
   "outputs": [],
   "source": []
  }
 ],
 "metadata": {
  "kernelspec": {
   "display_name": "Python 3",
   "language": "python",
   "name": "python3"
  },
  "language_info": {
   "codemirror_mode": {
    "name": "ipython",
    "version": 3
   },
   "file_extension": ".py",
   "mimetype": "text/x-python",
   "name": "python",
   "nbconvert_exporter": "python",
   "pygments_lexer": "ipython3",
   "version": "3.6.3"
  }
 },
 "nbformat": 4,
 "nbformat_minor": 2
}
