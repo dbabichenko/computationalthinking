{
 "cells": [
  {
   "cell_type": "markdown",
   "metadata": {},
   "source": [
    "## Palindrome\n",
    "\n",
    "### A palindrome is a word or a phrase that reads the same backwards and forwards\n",
    "\n",
    "1. Split word in half and compare halves as mirror images\n",
    "2. Make two lists - one ascending, one descending, and compare them\n",
    "3. Make two lists\n",
    "    a. first list will have the letters in the original order\n",
    "    b. second list will have the letters in reverse order (THIS IS THE APPROACH WE WILL TAKE)\n",
    "    \n",
    "    \n",
    "### The Algorithm\n",
    "* Get the word or phrase from the user\n",
    "* Store the word in a variable\n",
    "* Convert the word to lower case\n",
    "* Remove spaces and punctuation marks\n",
    "* Convert the word to a list\n",
    "* Reverse the word\n",
    "* Compare original with reversed"
   ]
  },
  {
   "cell_type": "code",
   "execution_count": 2,
   "metadata": {},
   "outputs": [
    {
     "data": {
      "text/plain": [
       "True"
      ]
     },
     "execution_count": 2,
     "metadata": {},
     "output_type": "execute_result"
    }
   ],
   "source": [
    "'race car'\n",
    "'kayak'\n",
    "'taco cat'"
   ]
  },
  {
   "cell_type": "code",
   "execution_count": 29,
   "metadata": {},
   "outputs": [
    {
     "name": "stdout",
     "output_type": "stream",
     "text": [
      "Please enter a word or a phrase: taco cat\n"
     ]
    }
   ],
   "source": [
    "# Get user input\n",
    "orig = input(\"Please enter a word or a phrase: \")\n"
   ]
  },
  {
   "cell_type": "code",
   "execution_count": 30,
   "metadata": {},
   "outputs": [
    {
     "name": "stdout",
     "output_type": "stream",
     "text": [
      "taco cat\n"
     ]
    }
   ],
   "source": [
    "# Convert user input to lower case\n",
    "orig = orig.lower()\n",
    "print(orig)"
   ]
  },
  {
   "cell_type": "code",
   "execution_count": 31,
   "metadata": {},
   "outputs": [
    {
     "name": "stdout",
     "output_type": "stream",
     "text": [
      "tacocat\n"
     ]
    }
   ],
   "source": [
    "# Removing spaces\n",
    "orig = orig.replace(' ', '')\n",
    "print(orig)"
   ]
  },
  {
   "cell_type": "code",
   "execution_count": 32,
   "metadata": {
    "scrolled": true
   },
   "outputs": [
    {
     "name": "stdout",
     "output_type": "stream",
     "text": [
      "['t', 'a', 'c', 'o', 'c', 'a', 't']\n"
     ]
    }
   ],
   "source": [
    "# Remove punctuation marks\n",
    "\n",
    "orig_letters = []\n",
    "\n",
    "# Remember that this only works because we already converted everythign to lower case\n",
    "alphabet = ['a','b','c','d','e','f','g','h','i','j','k','l','m','n','o','p','q','r','s','t','u','v','w','x','y','z']\n",
    "for letter in orig:\n",
    "    if letter in alphabet:\n",
    "        orig_letters.append(letter)\n",
    "        \n",
    "print(orig_letters)"
   ]
  },
  {
   "cell_type": "code",
   "execution_count": 39,
   "metadata": {},
   "outputs": [
    {
     "name": "stdout",
     "output_type": "stream",
     "text": [
      "['t', 'a', 'c', 'o', 'c', 'a', 't']\n"
     ]
    }
   ],
   "source": [
    "# Alt. approach to removing punctuation marks using ASCII character typecasting\n",
    "orig_letters = []\n",
    "\n",
    "# Remember that this only works because we already converted everythign to lower case\n",
    "for letter in orig:\n",
    "    # We are checking if the ascii value of each letter is between 97 and 122, which is the same\n",
    "    # as checking if the letter is between lowercase 'a' and lowercase 'z'\n",
    "    if ord(letter) >= 97 and ord(letter) <= 122:\n",
    "        orig_letters.append(letter)\n",
    "        \n",
    "print(orig_letters)"
   ]
  },
  {
   "cell_type": "code",
   "execution_count": 33,
   "metadata": {},
   "outputs": [
    {
     "name": "stdout",
     "output_type": "stream",
     "text": [
      "['t', 'a', 'c', 'o', 'c', 'a', 't']\n",
      "['t', 'a', 'c', 'o', 'c', 'a', 't']\n"
     ]
    }
   ],
   "source": [
    "# Reverse list\n",
    "reversed_letters = []\n",
    "\n",
    "# Start at the end of the list, which is the length of the list - 1\n",
    "end = len(orig_letters) - 1 # Lenth of list - 1\n",
    "start = -1 # Upper bound of the range, which will actually end in 0\n",
    "step = -1 # Because we are going backwards\n",
    "\n",
    "for i in range(end, start, step):\n",
    "    letter = orig_letters[i]\n",
    "    reversed_letters.append(letter)\n",
    "    \n",
    "print(orig_letters)\n",
    "print(reversed_letters)"
   ]
  },
  {
   "cell_type": "code",
   "execution_count": 34,
   "metadata": {},
   "outputs": [
    {
     "name": "stdout",
     "output_type": "stream",
     "text": [
      "This is a palindrome\n"
     ]
    }
   ],
   "source": [
    "if orig_letters == reversed_letters:\n",
    "    print(\"This is a palindrome\")\n",
    "else:\n",
    "    print(\"This is not a palindrome\")"
   ]
  },
  {
   "cell_type": "code",
   "execution_count": null,
   "metadata": {
    "collapsed": true
   },
   "outputs": [],
   "source": []
  }
 ],
 "metadata": {
  "kernelspec": {
   "display_name": "Python 3",
   "language": "python",
   "name": "python3"
  },
  "language_info": {
   "codemirror_mode": {
    "name": "ipython",
    "version": 3
   },
   "file_extension": ".py",
   "mimetype": "text/x-python",
   "name": "python",
   "nbconvert_exporter": "python",
   "pygments_lexer": "ipython3",
   "version": "3.6.3"
  }
 },
 "nbformat": 4,
 "nbformat_minor": 2
}
