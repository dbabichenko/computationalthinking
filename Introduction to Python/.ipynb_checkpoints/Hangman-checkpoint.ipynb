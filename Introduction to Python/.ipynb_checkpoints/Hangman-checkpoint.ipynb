{
 "cells": [
  {
   "cell_type": "markdown",
   "metadata": {},
   "source": [
    "### The Game of Hangman\n",
    "\n",
    "Hangman is a paper and pencil guessing game for two or more players. One player thinks of a word, phrase or sentence and the other(s) tries to guess it by suggesting letters within a certain number of guesses.\n",
    "\n",
    "* The word to guess is represented by a row of dashes, representing each letter of the word. \n",
    "* If the guessing player suggests a letter which occurs in the word, the other player writes it in all its correct positions. \n",
    "* If the suggested letter does not occur in the word, the other player draws one element of a hanged man stick figure as a tally mark.\n",
    "\n",
    "https://en.wikipedia.org/wiki/Hangman_(game)"
   ]
  },
  {
   "cell_type": "code",
   "execution_count": 17,
   "metadata": {},
   "outputs": [],
   "source": [
    "# Import the time module\n",
    "import time"
   ]
  },
  {
   "cell_type": "code",
   "execution_count": 21,
   "metadata": {},
   "outputs": [
    {
     "name": "stdout",
     "output_type": "stream",
     "text": [
      "Player 1 - please enter a secret word: secret\n"
     ]
    }
   ],
   "source": [
    "# Ask Player 1 to enter a secret word\n",
    "word = input(\"Player 1 - please enter a secret word: \" )"
   ]
  },
  {
   "cell_type": "code",
   "execution_count": null,
   "metadata": {},
   "outputs": [
    {
     "name": "stdout",
     "output_type": "stream",
     "text": [
      "Player 2 - start guessing...\n"
     ]
    }
   ],
   "source": [
    "# Wait for 1 second\n",
    "time.sleep(1)\n",
    "\n",
    "# Ask Player 2 to start guessing\n",
    "print(\"Player 2 - start guessing...\")\n",
    "\n",
    "# Wait for half a second\n",
    "time.sleep(0.5)\n",
    "\n",
    "# In order for us to know if a word has been guessed correctly, we need to match \n",
    "# all the letters in the \"secret\" word to all the letters in the \"guessed\" word.\n",
    "# However, there is a possibility that the list of \"guessed\" letters may have a duplicate.\n",
    "# For example, the word \"secret\" contains two instances of \"e\"\n",
    "# To deal with this and to be able to compare the \"secret\" and the \"guessed\" words without\n",
    "# worrying about the order of letters or duplicate letters, we can convert both words to sets.\n",
    "# A set is an unordered collection that has no duplicate elements.\n",
    "# For example, the word \"secret\" converted to a set will become (e, c, r, s, t) \n",
    "word_letters = set(word)\n",
    "\n",
    "# Determine the number of allowed turns (guesses)\n",
    "turns = 10\n",
    "\n",
    "# make a counter that starts with zero\n",
    "failed = 0\n",
    "\n",
    "# create a list to keep track of guessed letters\n",
    "guessed_letters = []\n",
    "    \n",
    "# Create a while loop\n",
    "# This while loop check if the turns are more than zero\n",
    "while turns > 0: \n",
    "    guessed_letter = input(\"Please guess a letter: \")\n",
    "    # store guessed letter in a list of guessed letters\n",
    "    guessed_letters.append(guessed_letter.lower())\n",
    "    # for every character in secret_word    \n",
    "    \n",
    "    for char in word:   \n",
    "        if char.lower() in guessed_letters:\n",
    "            print(char)\n",
    "        else:\n",
    "            print('_')\n",
    "            failed = failed + 1\n",
    "\n",
    "    if word_letters == set(guessed_letters):\n",
    "        print(\"Congrats!\")\n",
    "        break;\n",
    "    # For each attempt, subtract one from the \"turns\" counter\n",
    "    turns = turns - 1\n",
    "    \n",
    "    \n",
    "\n",
    "        "
   ]
  },
  {
   "cell_type": "code",
   "execution_count": null,
   "metadata": {},
   "outputs": [],
   "source": []
  },
  {
   "cell_type": "code",
   "execution_count": null,
   "metadata": {},
   "outputs": [],
   "source": []
  }
 ],
 "metadata": {
  "kernelspec": {
   "display_name": "Python 3",
   "language": "python",
   "name": "python3"
  },
  "language_info": {
   "codemirror_mode": {
    "name": "ipython",
    "version": 3
   },
   "file_extension": ".py",
   "mimetype": "text/x-python",
   "name": "python",
   "nbconvert_exporter": "python",
   "pygments_lexer": "ipython3",
   "version": "3.7.4"
  }
 },
 "nbformat": 4,
 "nbformat_minor": 4
}
