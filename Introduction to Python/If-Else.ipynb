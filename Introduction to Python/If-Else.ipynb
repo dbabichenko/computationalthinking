{
 "cells": [
  {
   "cell_type": "code",
   "execution_count": 1,
   "metadata": {},
   "outputs": [
    {
     "name": "stdout",
     "output_type": "stream",
     "text": [
      "X is not true\n",
      "We are now outside of the if statement\n"
     ]
    }
   ],
   "source": [
    "x = False\n",
    "\n",
    "if x == True:\n",
    "    print('X is True')\n",
    "    print('Some other line')\n",
    "else:\n",
    "    print('X is not true')\n",
    "    \n",
    "\n",
    "print('We are now outside of the if statement')"
   ]
  },
  {
   "cell_type": "code",
   "execution_count": 2,
   "metadata": {},
   "outputs": [
    {
     "name": "stdout",
     "output_type": "stream",
     "text": [
      "please enter a number between 1 and 5: 10\n"
     ]
    }
   ],
   "source": [
    "x_input = input(\"please enter a number between 1 and 5: \")\n"
   ]
  },
  {
   "cell_type": "code",
   "execution_count": 3,
   "metadata": {},
   "outputs": [
    {
     "name": "stdout",
     "output_type": "stream",
     "text": [
      "You entered 10. Please enter a number between 1 and 5\n"
     ]
    }
   ],
   "source": [
    "x = int(x_input)\n",
    "\n",
    "if x < 1 or x > 5:\n",
    "    print(\"You entered \" + x_input + \". Please enter a number between 1 and 5\")\n",
    "else:\n",
    "    if x == 1:\n",
    "        print('X = 1')\n",
    "    elif x == 2:\n",
    "        print('X = 2')\n",
    "    elif x == 3:\n",
    "        print('X = 3')\n",
    "    elif x == 4:\n",
    "        print('X = 4')\n",
    "    elif x == 5:\n",
    "        print('X = 5')\n"
   ]
  },
  {
   "cell_type": "code",
   "execution_count": 4,
   "metadata": {
    "collapsed": true
   },
   "outputs": [],
   "source": [
    "if x == 1:\n",
    "    print('X = 1')\n",
    "if x == 2:\n",
    "    print('X = 2')\n",
    "if x == 3:\n",
    "    print('X = 3')\n",
    "if x == 4:\n",
    "    print('X = 4')\n",
    "if x == 5:\n",
    "    print('X = 5')"
   ]
  },
  {
   "cell_type": "code",
   "execution_count": 5,
   "metadata": {
    "collapsed": true
   },
   "outputs": [],
   "source": [
    "if x == 1:\n",
    "    print(\"X is one\")"
   ]
  },
  {
   "cell_type": "code",
   "execution_count": 6,
   "metadata": {},
   "outputs": [
    {
     "name": "stdout",
     "output_type": "stream",
     "text": [
      "X is not one\n"
     ]
    }
   ],
   "source": [
    "if x == 1:\n",
    "    print(\"X is one\")\n",
    "else:\n",
    "    print(\"X is not one\")"
   ]
  },
  {
   "cell_type": "code",
   "execution_count": 7,
   "metadata": {},
   "outputs": [
    {
     "name": "stdout",
     "output_type": "stream",
     "text": [
      "X not found\n"
     ]
    }
   ],
   "source": [
    "if x == 1:\n",
    "    print('X = 1')\n",
    "elif x == 2:\n",
    "    print('X = 2')\n",
    "elif x == 3:\n",
    "    print('X = 3')\n",
    "elif x == 4:\n",
    "    print('X = 4')\n",
    "elif x == 5:\n",
    "    print('X = 5')\n",
    "else:\n",
    "    print(\"X not found\")"
   ]
  },
  {
   "cell_type": "code",
   "execution_count": 8,
   "metadata": {},
   "outputs": [
    {
     "name": "stdout",
     "output_type": "stream",
     "text": [
      "-15\n"
     ]
    }
   ],
   "source": [
    "x = -5\n",
    "y = 10\n",
    "\n",
    "z = x - y\n",
    "print(z)"
   ]
  },
  {
   "cell_type": "code",
   "execution_count": null,
   "metadata": {
    "collapsed": true
   },
   "outputs": [],
   "source": []
  }
 ],
 "metadata": {
  "kernelspec": {
   "display_name": "Python 3",
   "language": "python",
   "name": "python3"
  },
  "language_info": {
   "codemirror_mode": {
    "name": "ipython",
    "version": 3
   },
   "file_extension": ".py",
   "mimetype": "text/x-python",
   "name": "python",
   "nbconvert_exporter": "python",
   "pygments_lexer": "ipython3",
   "version": "3.6.3"
  }
 },
 "nbformat": 4,
 "nbformat_minor": 2
}
