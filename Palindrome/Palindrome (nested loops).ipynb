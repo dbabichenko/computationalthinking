{
 "cells": [
  {
   "cell_type": "markdown",
   "metadata": {},
   "source": [
    "** Palindromes **\n",
    "\n",
    "A palindrome is a word, phrase, number, or other sequence of characters which reads the same backward as forward, such as madam or racecar. (https://en.wikipedia.org/wiki/Palindrome). This program accepts a single word without spaces or punctuation characters as user input and checks if that word is a valid palindrome"
   ]
  },
  {
   "cell_type": "code",
   "execution_count": 1,
   "metadata": {},
   "outputs": [
    {
     "name": "stdout",
     "output_type": "stream",
     "text": [
      "Please enter a single word with no spaces or punctuation characters:bob\n"
     ]
    }
   ],
   "source": [
    "# Get user input\n",
    "user_input = input(\"Please enter a single word with no spaces or punctuation characters:\")\n",
    "\t\t"
   ]
  },
  {
   "cell_type": "code",
   "execution_count": 3,
   "metadata": {},
   "outputs": [],
   "source": [
    "# In order to determine whether a word is a palindrome or not, we need to read it in reverse order,\n",
    "# starting with the last character.  The position of the last character is the length of the word minus 1\n",
    "# because Python counts starting from zero.\n",
    "\t\t\n",
    "# The line of code below identifies the position, or the index, of the last character in the word\n",
    "start = len(user_input) - 1\n"
   ]
  },
  {
   "cell_type": "code",
   "execution_count": 4,
   "metadata": {
    "collapsed": true
   },
   "outputs": [],
   "source": [
    "# Since we are counting from end to start (reversing the word), the last character to check\n",
    "# will be the first character of the original word.  Since Java counts starting at zero,\n",
    "# the position (index) of the first character in the original word is zero (0)\n",
    "# However, because we will be iterating through the original word in reverse order using\n",
    "# Python's for loop with range() function, we have to keep in mind that range() includes\n",
    "# the first argument (the starting argument), but does not include the ending argument.\n",
    "# In other words, range(0, 5) will give you numbers from 0 to 4.  If we want the range\n",
    "# to start at some number and end at 0, we have to actually end it at -1\n",
    "\n",
    "end = -1;"
   ]
  },
  {
   "cell_type": "code",
   "execution_count": 6,
   "metadata": {},
   "outputs": [],
   "source": [
    "# Convert user input to lower case\n",
    "user_input = user_input.lower()"
   ]
  },
  {
   "cell_type": "code",
   "execution_count": 7,
   "metadata": {
    "collapsed": true
   },
   "outputs": [],
   "source": [
    "# Store reversed string in a new variable\n",
    "reversedText = \"\";\n",
    "\t\t\t\t\n",
    "# Loop (iterate) through the word character-by-character starting from the end\n",
    "# and stopping at the beginning.\n",
    "for i in range(start, end, -1):\n",
    "\t# Find a character in position of i\n",
    "\tcurrentCharacter = user_input[i]\n",
    "\n",
    "\t# Append character to reversed string\n",
    "\treversedText = reversedText + currentCharacter\n"
   ]
  },
  {
   "cell_type": "code",
   "execution_count": 8,
   "metadata": {},
   "outputs": [
    {
     "name": "stdout",
     "output_type": "stream",
     "text": [
      "bob is a palindrome\n"
     ]
    }
   ],
   "source": [
    "# Check if entered word is indeed a palindrome:\n",
    "if user_input == reversedText:\n",
    "\tprint(user_input + \" is a palindrome\")\n",
    "else:\n",
    "\tprint(user_input + \" is NOT a palindrome\")\n"
   ]
  },
  {
   "cell_type": "code",
   "execution_count": null,
   "metadata": {
    "collapsed": true
   },
   "outputs": [],
   "source": []
  }
 ],
 "metadata": {
  "kernelspec": {
   "display_name": "Python 3",
   "language": "python",
   "name": "python3"
  },
  "language_info": {
   "codemirror_mode": {
    "name": "ipython",
    "version": 3
   },
   "file_extension": ".py",
   "mimetype": "text/x-python",
   "name": "python",
   "nbconvert_exporter": "python",
   "pygments_lexer": "ipython3",
   "version": "3.6.3"
  }
 },
 "nbformat": 4,
 "nbformat_minor": 2
}
