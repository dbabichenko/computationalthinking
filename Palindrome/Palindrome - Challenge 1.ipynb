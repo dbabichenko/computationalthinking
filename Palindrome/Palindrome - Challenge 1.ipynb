{
 "cells": [
  {
   "cell_type": "markdown",
   "metadata": {},
   "source": [
    "** Palindromes - Challenge 1 **\n",
    "\n",
    "A palindrome is a word, phrase, number, or other sequence of characters which reads the same backward as forward, such as madam or racecar. (https://en.wikipedia.org/wiki/Palindrome). This program accepts a single word as user input and checks if that word is a valid palindrome\n",
    "\n",
    "**CHALLENGE**\n",
    "\n",
    "This time we cannot assume that user input just contains letters. \n",
    "\n",
    "The following characters are NOT allowed: , @!#$%^&*()_+=?<>,.;0123456789'\n",
    "\n",
    "Note that the list of illegal characters contains a space"
   ]
  },
  {
   "cell_type": "code",
   "execution_count": null,
   "metadata": {
    "collapsed": true
   },
   "outputs": [],
   "source": [
    "# Store \"illegal\" characters in a variable\n",
    "badChars = \", @!#$%^&*()_+=?<>,.;'0123456789\""
   ]
  },
  {
   "cell_type": "code",
   "execution_count": null,
   "metadata": {},
   "outputs": [],
   "source": [
    "# Get user input\n",
    "user_input = input(\"Please enter a single word with no spaces or punctuation characters:\")\n",
    "\n",
    "print(\"You entered: \" + user_input)\n",
    "\t\t"
   ]
  },
  {
   "cell_type": "code",
   "execution_count": null,
   "metadata": {
    "collapsed": true
   },
   "outputs": [],
   "source": [
    "# In order to determine whether a word is a palindrome or not, we need to read it in reverse order,\n",
    "# starting with the last character.  The position of the last character is the length of the word minus 1\n",
    "# because Python counts starting from zero.\n",
    "\t\t\n",
    "# The line of code below identifies the position, or the index, of the last character in the word\n",
    "start = len(user_input) - 1\n"
   ]
  },
  {
   "cell_type": "code",
   "execution_count": null,
   "metadata": {
    "collapsed": true
   },
   "outputs": [],
   "source": [
    "# Since we are counting from end to start (reversing the word), the last character to check\n",
    "# will be the first character of the original word.  Since Java counts starting at zero,\n",
    "# the position (index) of the first character in the original word is zero (0)\n",
    "# However, because we will be iterating through the original word in reverse order using\n",
    "# Python's for loop with range() function, we have to keep in mind that range() includes\n",
    "# the first argument (the starting argument), but does not include the ending argument.\n",
    "# In other words, range(0, 5) will give you numbers from 0 to 4.  If we want the range\n",
    "# to start at some number and end at 0, we have to actually end it at -1\n",
    "\n",
    "end = -1;"
   ]
  },
  {
   "cell_type": "code",
   "execution_count": null,
   "metadata": {},
   "outputs": [],
   "source": [
    "# Remove \"illegal\" characters from the original input\n",
    "cleanedInput = \"\"\n",
    "for i in range(0, len(user_input)):\n",
    "\t# This variable will store \"current\" character\n",
    "\t# for every iteration through the loop\n",
    "\tcurrentCharacter = user_input[i]\n",
    "\n",
    "\t# We need to check whether each character is part\n",
    "\t# of the string of \"illegal\" characters.\n",
    "\t# We begin by assuming that all characters are allowed,\n",
    "\t# so we initialize isBadCharacter to false\n",
    "\tisBadCharacter = False\n",
    "\t\t\t\n",
    "\t# Check if current character is in the \"illegal\" character list\n",
    "\t# Iterate through the string of \"illegal\" characters and compare\n",
    "\t# each illegal character with the current character from the\n",
    "\t# outer loop\n",
    "\n",
    "\tfor j in range(0, len(badChars)):\n",
    "\t\t# Grab one bad character at a time\n",
    "\t\tcurrentBadChar = badChars[j]\n",
    "\n",
    "\t\tif currentCharacter == currentBadChar:\n",
    "\t\t\t# If current character is in the list of \"illegal\" characters,\n",
    "\t\t\t# set isBadCharacter to true and exit inner (nested) loop\n",
    "\t\t\tisBadCharacter = True\n",
    "\t\t\tbreak # Exists inner loop\n",
    "\n",
    "\t# Append character to cleaned input string\n",
    "\tif isBadCharacter == False:\n",
    "\t\tcleanedInput = cleanedInput + currentCharacter\n"
   ]
  },
  {
   "cell_type": "code",
   "execution_count": null,
   "metadata": {
    "collapsed": true
   },
   "outputs": [],
   "source": [
    "# Store reversed string in a new variable\n",
    "reversedText = \"\"\n",
    "\t\t\n",
    "\t\t\n",
    "\t\t\t\t\n",
    "# Loop (iterate) through the cleand user input character-by-character starting from the end\n",
    "# and stopping at the beginning.\n",
    "start = len(cleanedInput) - 1\n",
    "end = -1\n",
    "for i in range(start, end, -1):\n",
    "\t#Find a character in position of i\n",
    "\tcurrentCharacter = cleanedInput[i]\n",
    "\t\t\t\n",
    "\treversedText = reversedText + currentCharacter"
   ]
  },
  {
   "cell_type": "code",
   "execution_count": null,
   "metadata": {},
   "outputs": [],
   "source": [
    "# Check if entered word is indeed a palindrome:\n",
    "if cleanedInput == reversedText:\n",
    "\tprint(user_input + \" is a palindrome\")\n",
    "else:\n",
    "\tprint(user_input + \" is NOT a palindrome\")\n"
   ]
  },
  {
   "cell_type": "code",
   "execution_count": null,
   "metadata": {
    "collapsed": true
   },
   "outputs": [],
   "source": []
  },
  {
   "cell_type": "code",
   "execution_count": null,
   "metadata": {
    "collapsed": true
   },
   "outputs": [],
   "source": []
  }
 ],
 "metadata": {
  "kernelspec": {
   "display_name": "Python 3",
   "language": "python",
   "name": "python3"
  },
  "language_info": {
   "codemirror_mode": {
    "name": "ipython",
    "version": 3
   },
   "file_extension": ".py",
   "mimetype": "text/x-python",
   "name": "python",
   "nbconvert_exporter": "python",
   "pygments_lexer": "ipython3",
   "version": "3.6.3"
  }
 },
 "nbformat": 4,
 "nbformat_minor": 2
}
