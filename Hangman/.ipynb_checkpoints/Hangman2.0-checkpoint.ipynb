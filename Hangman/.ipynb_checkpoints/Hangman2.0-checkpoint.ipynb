{
 "cells": [
  {
   "cell_type": "markdown",
   "metadata": {},
   "source": [
    "### The Game of Hangman\n",
    "\n",
    "Hangman is a paper and pencil guessing game for two or more players. One player thinks of a word, phrase or sentence and the other(s) tries to guess it by suggesting letters within a certain number of guesses.\n",
    "\n",
    "* The word to guess is represented by a row of dashes, representing each letter of the word. \n",
    "* If the guessing player suggests a letter which occurs in the word, the other player writes it in all its correct positions. \n",
    "* If the suggested letter does not occur in the word, the other player draws one element of a hanged man stick figure as a tally mark.\n",
    "\n",
    "https://en.wikipedia.org/wiki/Hangman_(game)"
   ]
  },
  {
   "cell_type": "markdown",
   "metadata": {},
   "source": [
    "### Concepts Illustrated\n",
    "* Python variables\n",
    "* lists\n",
    "* control structures\n",
    "* while loop\n",
    "* for loop\n",
    "* break statement\n",
    "* text file IO\n",
    "* random selection"
   ]
  },
  {
   "cell_type": "code",
   "execution_count": 6,
   "metadata": {
    "collapsed": true
   },
   "outputs": [],
   "source": [
    "# Import the time module\n",
    "import time\n",
    "\n",
    "# Import the random module\n",
    "import random"
   ]
  },
  {
   "cell_type": "markdown",
   "metadata": {},
   "source": [
    "In the previous version of the program we asked Player 1 to enter a secret word.  However, you probably noticed that Jupyter Notebook actually shows the word that was entered.  This is not ideal from the point of view of Hangman, since if Player 2 can see the word that Player 1 entered, it's not much of a secret.\n",
    "\n",
    "To make the game better, we will randomly select a word from a text file."
   ]
  },
  {
   "cell_type": "code",
   "execution_count": 4,
   "metadata": {},
   "outputs": [
    {
     "name": "stdout",
     "output_type": "stream",
     "text": [
      "['a\\n', 'aa\\n', 'aaa\\n', 'aah\\n', 'aahed\\n', 'aahing\\n', 'aahs\\n', 'aal\\n', 'aalii\\n', 'aaliis\\n']\n"
     ]
    }
   ],
   "source": [
    "# Open the text file\n",
    "f = open('words.txt')\n",
    "\n",
    "# Read all the words into a list.  The words in the text file are organized that each line in the file contains only one word\n",
    "all_words = f.readlines()\n",
    "\n",
    "# Check that the file was actually read correctly by printing the first 10 words in the list\n",
    "print(all_words[:10])\n"
   ]
  },
  {
   "cell_type": "markdown",
   "metadata": {},
   "source": [
    "As you probably noticed, each word ends with '\\n'. '\\n' is a placeholder for a special 'new line' character. In the context of our program we should remove it. We will replace '\\n' with an empty string by looping through the list and using the replace function on every element of the list"
   ]
  },
  {
   "cell_type": "code",
   "execution_count": 5,
   "metadata": {},
   "outputs": [
    {
     "name": "stdout",
     "output_type": "stream",
     "text": [
      "['a', 'aa', 'aaa', 'aah', 'aahed', 'aahing', 'aahs', 'aal', 'aalii', 'aaliis']\n"
     ]
    }
   ],
   "source": [
    "# Loop through the list\n",
    "for i in range(0, len(all_words)):\n",
    "    # Replace the '\\n character with an empty string\n",
    "    all_words[i] = all_words[i].replace('\\n', '')\n",
    "    \n",
    "# Let's check to make sure that the '\\n' character was replaced correctly\n",
    "print(all_words[:10])"
   ]
  },
  {
   "cell_type": "code",
   "execution_count": 9,
   "metadata": {},
   "outputs": [
    {
     "name": "stdout",
     "output_type": "stream",
     "text": [
      "nonattestation\n"
     ]
    }
   ],
   "source": [
    "# Now let's randomly select a word\n",
    "word = random.choice(all_words)\n",
    "print(word)"
   ]
  },
  {
   "cell_type": "markdown",
   "metadata": {},
   "source": [
    "### The rest of the program will remain unchanged"
   ]
  },
  {
   "cell_type": "code",
   "execution_count": 7,
   "metadata": {},
   "outputs": [
    {
     "name": "stdout",
     "output_type": "stream",
     "text": [
      "Player 2 - start guessing an 6-letter word...\n",
      "Please guess a letter: t\n",
      "_\n",
      "_\n",
      "_\n",
      "_\n",
      "_\n",
      "t\n",
      "Please guess a letter: t\n",
      "_\n",
      "_\n",
      "_\n",
      "_\n",
      "_\n",
      "t\n",
      "Please guess a letter: t\n",
      "_\n",
      "_\n",
      "_\n",
      "_\n",
      "_\n",
      "t\n",
      "Please guess a letter: t\n",
      "_\n",
      "_\n",
      "_\n",
      "_\n",
      "_\n",
      "t\n",
      "Please guess a letter: t\n",
      "_\n",
      "_\n",
      "_\n",
      "_\n",
      "_\n",
      "t\n",
      "Please guess a letter: t\n",
      "_\n",
      "_\n",
      "_\n",
      "_\n",
      "_\n",
      "t\n",
      "Please guess a letter: t\n",
      "_\n",
      "_\n",
      "_\n",
      "_\n",
      "_\n",
      "t\n",
      "Please guess a letter: t\n",
      "_\n",
      "_\n",
      "_\n",
      "_\n",
      "_\n",
      "t\n",
      "Please guess a letter: t\n",
      "_\n",
      "_\n",
      "_\n",
      "_\n",
      "_\n",
      "t\n",
      "Please guess a letter: t\n",
      "_\n",
      "_\n",
      "_\n",
      "_\n",
      "_\n",
      "t\n",
      "Unfortunately you've been HANGED!  The word that you did not solve was 'secret'.\n"
     ]
    }
   ],
   "source": [
    "# Wait for 1 second\n",
    "time.sleep(1)\n",
    "\n",
    "\n",
    "# We need to get the length of the secret word\n",
    "word_len = len(word)\n",
    "\n",
    "# Now we are going to concattenate the length of our secret word\n",
    "# with the message that the program will display for Player 2\n",
    "# Note that we had to convert/typecast word_len variable from an integer to a string data type\n",
    "message = \"Player 2 - start guessing an \" + str(word_len) + \"-letter word...\"\n",
    "\n",
    "# Show the message to Player 2 to start guessing\n",
    "print(message)\n",
    "\n",
    "# Wait for half a second\n",
    "time.sleep(0.5)\n",
    "\n",
    "# In order for us to know if a word has been guessed correctly, we need to match \n",
    "# all the letters in the \"secret\" word to all the letters in the \"guessed\" word.\n",
    "# However, there is a possibility that the list of \"guessed\" letters may have a duplicate.\n",
    "# For example, the word \"secret\" contains two instances of \"e\"\n",
    "# To deal with this and to be able to compare the \"secret\" and the \"guessed\" words without\n",
    "# worrying about the order of letters or duplicate letters, we can convert both words to sets.\n",
    "# A set is an unordered collection that has no duplicate elements.\n",
    "# For example, the word \"secret\" converted to a set will become (e, c, r, s, t) \n",
    "word_letters = set(word)\n",
    "\n",
    "# Determine the number of allowed turns (guesses)\n",
    "turns = 10\n",
    "\n",
    "# We will create a variable to track whether or not the word was guessed successfully.\n",
    "# It is a boolean variable and we will initialize it to False\n",
    "success = False\n",
    "\n",
    "# create a list to keep track of guessed letters\n",
    "guessed_letters = []\n",
    "    \n",
    "# Create a while loop\n",
    "# This while loop check if the turns are more than zero\n",
    "while turns > 0: \n",
    "    guessed_letter = input(\"Please guess a letter: \")\n",
    "    # store guessed letter in a list of guessed letters\n",
    "    guessed_letters.append(guessed_letter.lower())\n",
    "    # for every character in secret_word    \n",
    "    \n",
    "    for char in word:   \n",
    "        if char.lower() in guessed_letters:\n",
    "            print(char)\n",
    "        else:\n",
    "            print('_')\n",
    "\n",
    "\n",
    "    if word_letters == set(guessed_letters):\n",
    "        print(\"Congratulations! You correctly guessed the word!\")\n",
    "        \n",
    "        # Set the value of the \"success\" variable to True to indicate\n",
    "        # that the word was solved correctly before the number of\n",
    "        # attempts reached the preset threshold\n",
    "        success = True\n",
    "        \n",
    "        # Exit loop\n",
    "        break;\n",
    "        \n",
    "    # For each attempt, subtract one from the \"turns\" counter\n",
    "    turns = turns - 1\n",
    "\n",
    "# If Player 2 did not solve the word after the preset number of attempts\n",
    "# display a message letting them know that they've been \"Hanged\"\n",
    "if turns <= 0 and success == False:\n",
    "    print(\"Unfortunately you've been HANGED!  The word that you did not solve was '\" + word + \"'.\")\n",
    "    \n",
    "    \n",
    "\n",
    "        "
   ]
  },
  {
   "cell_type": "code",
   "execution_count": null,
   "metadata": {
    "collapsed": true
   },
   "outputs": [],
   "source": []
  },
  {
   "cell_type": "code",
   "execution_count": null,
   "metadata": {
    "collapsed": true
   },
   "outputs": [],
   "source": []
  }
 ],
 "metadata": {
  "kernelspec": {
   "display_name": "Python 3",
   "language": "python",
   "name": "python3"
  },
  "language_info": {
   "codemirror_mode": {
    "name": "ipython",
    "version": 3
   },
   "file_extension": ".py",
   "mimetype": "text/x-python",
   "name": "python",
   "nbconvert_exporter": "python",
   "pygments_lexer": "ipython3",
   "version": "3.6.3"
  }
 },
 "nbformat": 4,
 "nbformat_minor": 4
}
