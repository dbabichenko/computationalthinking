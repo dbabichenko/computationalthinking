{
 "cells": [
  {
   "cell_type": "markdown",
   "metadata": {},
   "source": [
    "### The Game of Hangman\n",
    "\n",
    "Hangman is a paper and pencil guessing game for two or more players. One player thinks of a word, phrase or sentence and the other(s) tries to guess it by suggesting letters within a certain number of guesses.\n",
    "\n",
    "* The word to guess is represented by a row of dashes, representing each letter of the word. \n",
    "* If the guessing player suggests a letter which occurs in the word, the other player writes it in all its correct positions. \n",
    "* If the suggested letter does not occur in the word, the other player draws one element of a hanged man stick figure as a tally mark.\n",
    "\n",
    "https://en.wikipedia.org/wiki/Hangman_(game)"
   ]
  },
  {
   "cell_type": "markdown",
   "metadata": {},
   "source": [
    "### Concepts Illustrated\n",
    "* Python variables\n",
    "* *list* data structure\n",
    "* control structures\n",
    "* *while* loop\n",
    "* *break* statement"
   ]
  },
  {
   "cell_type": "code",
   "execution_count": 3,
   "metadata": {
    "collapsed": true
   },
   "outputs": [],
   "source": [
    "# Import the time module\n",
    "import time"
   ]
  },
  {
   "cell_type": "code",
   "execution_count": 4,
   "metadata": {},
   "outputs": [
    {
     "name": "stdout",
     "output_type": "stream",
     "text": [
      "Player 1 - please enter a secret word: secret\n"
     ]
    }
   ],
   "source": [
    "# Ask Player 1 to enter a secret word\n",
    "# Note that this is not the best way to approach this game, so in the next iteration we will make this part of\n",
    "# our game logic a bit smarter\n",
    "\n",
    "word = input(\"Player 1 - please enter a secret word: \" )"
   ]
  },
  {
   "cell_type": "code",
   "execution_count": 7,
   "metadata": {},
   "outputs": [
    {
     "name": "stdout",
     "output_type": "stream",
     "text": [
      "Player 2 - start guessing an 6-letter word...\n",
      "Please guess a letter: t\n",
      "_\n",
      "_\n",
      "_\n",
      "_\n",
      "_\n",
      "t\n",
      "Please guess a letter: t\n",
      "_\n",
      "_\n",
      "_\n",
      "_\n",
      "_\n",
      "t\n",
      "Please guess a letter: t\n",
      "_\n",
      "_\n",
      "_\n",
      "_\n",
      "_\n",
      "t\n",
      "Please guess a letter: t\n",
      "_\n",
      "_\n",
      "_\n",
      "_\n",
      "_\n",
      "t\n",
      "Please guess a letter: t\n",
      "_\n",
      "_\n",
      "_\n",
      "_\n",
      "_\n",
      "t\n",
      "Please guess a letter: t\n",
      "_\n",
      "_\n",
      "_\n",
      "_\n",
      "_\n",
      "t\n",
      "Please guess a letter: t\n",
      "_\n",
      "_\n",
      "_\n",
      "_\n",
      "_\n",
      "t\n",
      "Please guess a letter: t\n",
      "_\n",
      "_\n",
      "_\n",
      "_\n",
      "_\n",
      "t\n",
      "Please guess a letter: t\n",
      "_\n",
      "_\n",
      "_\n",
      "_\n",
      "_\n",
      "t\n",
      "Please guess a letter: t\n",
      "_\n",
      "_\n",
      "_\n",
      "_\n",
      "_\n",
      "t\n",
      "Unfortunately you've been HANGED!  The word that you did not solve was 'secret'.\n"
     ]
    }
   ],
   "source": [
    "# Wait for 1 second\n",
    "time.sleep(1)\n",
    "\n",
    "\n",
    "# We need to get the length of the secret word\n",
    "word_len = len(word)\n",
    "\n",
    "# Now we are going to concattenate the length of our secret word\n",
    "# with the message that the program will display for Player 2\n",
    "# Note that we had to convert/typecast word_len variable from an integer to a string data type\n",
    "message = \"Player 2 - start guessing an \" + str(word_len) + \"-letter word...\"\n",
    "\n",
    "# Show the message to Player 2 to start guessing\n",
    "print(message)\n",
    "\n",
    "# Wait for half a second\n",
    "time.sleep(0.5)\n",
    "\n",
    "# In order for us to know if a word has been guessed correctly, we need to match \n",
    "# all the letters in the \"secret\" word to all the letters in the \"guessed\" word.\n",
    "# However, there is a possibility that the list of \"guessed\" letters may have a duplicate.\n",
    "# For example, the word \"secret\" contains two instances of \"e\"\n",
    "# To deal with this and to be able to compare the \"secret\" and the \"guessed\" words without\n",
    "# worrying about the order of letters or duplicate letters, we can convert both words to sets.\n",
    "# A set is an unordered collection that has no duplicate elements.\n",
    "# For example, the word \"secret\" converted to a set will become (e, c, r, s, t) \n",
    "word_letters = set(word)\n",
    "\n",
    "# Determine the number of allowed turns (guesses)\n",
    "turns = 10\n",
    "\n",
    "# We will create a variable to track whether or not the word was guessed successfully.\n",
    "# It is a boolean variable and we will initialize it to False\n",
    "success = False\n",
    "\n",
    "# create a list to keep track of guessed letters\n",
    "guessed_letters = []\n",
    "    \n",
    "# Create a while loop\n",
    "# This while loop check if the turns are more than zero\n",
    "while turns > 0: \n",
    "    guessed_letter = input(\"Please guess a letter: \")\n",
    "    # store guessed letter in a list of guessed letters\n",
    "    guessed_letters.append(guessed_letter.lower())\n",
    "    # for every character in secret_word    \n",
    "    \n",
    "    for char in word:   \n",
    "        if char.lower() in guessed_letters:\n",
    "            print(char)\n",
    "        else:\n",
    "            print('_')\n",
    "\n",
    "\n",
    "    if word_letters == set(guessed_letters):\n",
    "        print(\"Congratulations! You correctly guessed the word!\")\n",
    "        \n",
    "        # Set the value of the \"success\" variable to True to indicate\n",
    "        # that the word was solved correctly before the number of\n",
    "        # attempts reached the preset threshold\n",
    "        success = True\n",
    "        \n",
    "        # Exit loop\n",
    "        break;\n",
    "        \n",
    "    # For each attempt, subtract one from the \"turns\" counter\n",
    "    turns = turns - 1\n",
    "\n",
    "# If Player 2 did not solve the word after the preset number of attempts\n",
    "# display a message letting them know that they've been \"Hanged\"\n",
    "if turns <= 0 and success == False:\n",
    "    print(\"Unfortunately you've been HANGED!  The word that you did not solve was '\" + word + \"'.\")\n",
    "    \n",
    "    \n",
    "\n",
    "        "
   ]
  },
  {
   "cell_type": "code",
   "execution_count": null,
   "metadata": {
    "collapsed": true
   },
   "outputs": [],
   "source": []
  },
  {
   "cell_type": "code",
   "execution_count": null,
   "metadata": {
    "collapsed": true
   },
   "outputs": [],
   "source": []
  }
 ],
 "metadata": {
  "kernelspec": {
   "display_name": "Python 3",
   "language": "python",
   "name": "python3"
  },
  "language_info": {
   "codemirror_mode": {
    "name": "ipython",
    "version": 3
   },
   "file_extension": ".py",
   "mimetype": "text/x-python",
   "name": "python",
   "nbconvert_exporter": "python",
   "pygments_lexer": "ipython3",
   "version": "3.6.3"
  }
 },
 "nbformat": 4,
 "nbformat_minor": 4
}
