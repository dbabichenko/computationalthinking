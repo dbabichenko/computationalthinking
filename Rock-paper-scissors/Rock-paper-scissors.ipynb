{
 "cells": [
  {
   "cell_type": "markdown",
   "metadata": {},
   "source": [
    "## Rock, paper, scissors\n",
    "\n",
    "Rock paper scissors is a hand game usually played between two people, in which each player simultaneously forms one of three shapes with an outstretched hand. These shapes are \"rock\" (a closed fist), \"paper\" (a flat hand), and \"scissors\" (a fist with the index finger and middle finger extended, forming a V). \"Scissors\" is identical to the two-fingered V sign (also indicating \"victory\" or \"peace\") except that it is pointed horizontally instead of being held upright in the air. A simultaneous, zero-sum game, it has only two possible outcomes: a draw, or a win for one player and a loss for the other.\n",
    "\n",
    "A player who decides to play rock will beat another player who has chosen scissors (\"rock crushes scissors\"), but will lose to one who has played paper (\"paper covers rock\"); a play of paper will lose to a play of scissors (\"scissors cuts paper\"). If both players choose the same shape, the game is tied and is usually immediately replayed to break the tie. \n",
    "\n",
    "Rock paper scissors is often used as a fair choosing method between two people, similar to coin flipping, drawing straws, or throwing dice in order to settle a dispute or make an unbiased group decision.\n",
    "\n",
    "https://en.wikipedia.org/wiki/Rock_paper_scissors"
   ]
  },
  {
   "cell_type": "markdown",
   "metadata": {},
   "source": [
    "## Concepts Illustrated\n",
    "* Python variables\n",
    "* *list* data structure\n",
    "* control structures\n",
    "* *while* loop\n",
    "* *break* statement\n",
    "* *random* selection"
   ]
  },
  {
   "cell_type": "code",
   "execution_count": null,
   "metadata": {
    "collapsed": true
   },
   "outputs": [],
   "source": [
    "# import random module\n",
    "from random import randint"
   ]
  },
  {
   "cell_type": "code",
   "execution_count": null,
   "metadata": {},
   "outputs": [
    {
     "name": "stdout",
     "output_type": "stream",
     "text": [
      "Please enter 'rock', 'paper', 'scissors' to play, or 'quit' to stop: rock\n",
      "You lose! paper covers rock\n",
      "Please enter 'rock', 'paper', 'scissors' to play, or 'quit' to stop: scissors\n",
      "You lose... rock smashes scissors\n",
      "Please enter 'rock', 'paper', 'scissors' to play, or 'quit' to stop: rock\n",
      "Tie!\n",
      "Please enter 'rock', 'paper', 'scissors' to play, or 'quit' to stop: rock\n",
      "You lose! paper covers rock\n"
     ]
    }
   ],
   "source": [
    "# Create a list of play options\n",
    "play_options = [\"rock\", \"paper\", \"scissors\"]\n",
    "\n",
    "# Initialize a variable to store player's game choice (rock, paper, or scissors)\n",
    "player = \"\"\n",
    "\n",
    "# Keep playing the game until the player enters \"quit\"\n",
    "while player != 'quit':\n",
    "    \n",
    "    # Get input from the player\n",
    "    player = input(\"Please enter 'rock', 'paper', 'scissors' to play, or 'quit' to stop: \")\n",
    "    \n",
    "    # Assign a random play to the computer and select a corresponding value from the play_options list\n",
    "    computer = play_options[randint(0,2)]\n",
    "    \n",
    "    \n",
    "    if player == computer: # Both player and computer chose the same value\n",
    "        print(\"Tie!\")\n",
    "    elif player == \"rock\": # Player chose \"rock\"\n",
    "        if computer == \"paper\": # Computer randomly selected \"paper\"\n",
    "            print(\"You lose!\", computer, \"covers\", player)\n",
    "        else:\n",
    "            print(\"You win!\", player, \"smashes\", computer)\n",
    "    elif player == \"paper\": # Player chose \"paper\"\n",
    "        if computer == \"scissors\": # Computer randomly selected \"scissors\"\n",
    "            print(\"You lose!\", computer, \"cut\", player)\n",
    "        else:\n",
    "            print(\"You win!\", player, \"covers\", computer)\n",
    "    elif player == \"scissors\": # Player selected \"scissors\"\n",
    "        if computer == \"rock\": \n",
    "            print(\"You lose...\", computer, \"smashes\", player)\n",
    "        else:\n",
    "            print(\"You win!\", player, \"cut\", computer)\n",
    "    elif player == \"quit\":\n",
    "        break\n",
    "    else:\n",
    "        print(\"That's not a valid play. Check your spelling!\")\n",
    "    "
   ]
  },
  {
   "cell_type": "code",
   "execution_count": null,
   "metadata": {
    "collapsed": true
   },
   "outputs": [],
   "source": []
  }
 ],
 "metadata": {
  "kernelspec": {
   "display_name": "Python 3",
   "language": "python",
   "name": "python3"
  },
  "language_info": {
   "codemirror_mode": {
    "name": "ipython",
    "version": 3
   },
   "file_extension": ".py",
   "mimetype": "text/x-python",
   "name": "python",
   "nbconvert_exporter": "python",
   "pygments_lexer": "ipython3",
   "version": "3.6.3"
  }
 },
 "nbformat": 4,
 "nbformat_minor": 2
}
