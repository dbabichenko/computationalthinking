{
 "cells": [
  {
   "cell_type": "markdown",
   "metadata": {},
   "source": [
    "** Anagrams **\n",
    "\n",
    "This program reads a word dictionary from a text file and uses that dictionary to find anagrams for words.\n",
    "\n",
    "An anagram is word or phrase formed by rearranging the letters of a different word or phrase, typically using all the original letters exactly once. \n",
    "\n",
    "For example, the word 'lives' is an anagram of 'elvis'\n",
    "\n",
    "The file containing English words can be downloaded from GitHub at https://github.com/dwyl/english-words\n"
   ]
  },
  {
   "cell_type": "code",
   "execution_count": 1,
   "metadata": {},
   "outputs": [
    {
     "name": "stdout",
     "output_type": "stream",
     "text": [
      "<_io.TextIOWrapper name='words.txt' mode='r' encoding='UTF-8'>\n"
     ]
    }
   ],
   "source": [
    "# open function opens and reads a text file and stores the resulting data in a variable.\n",
    "# This function takes two parameters:\n",
    "# 1: the path to the file you wish to read and \n",
    "# 2: a flag denoting how you want to open the file.  In this case, 'r' indicates that we are opening the file as\n",
    "#    read-only\n",
    "\n",
    "words = open('words.txt', 'r')\n",
    "print(words)"
   ]
  },
  {
   "cell_type": "code",
   "execution_count": 2,
   "metadata": {},
   "outputs": [
    {
     "name": "stdout",
     "output_type": "stream",
     "text": [
      "['a\\n', 'aa\\n', 'aaa\\n', 'aah\\n', 'aahed\\n', 'aahing\\n', 'aahs\\n', 'aal\\n', 'aalii\\n', 'aaliis\\n']\n"
     ]
    }
   ],
   "source": [
    "# Now we need to read individual lines of the text file.  Each line contains a single word. \n",
    "# The result of the following statement is a list (an array) of individual words read from the text file\n",
    "wordlist = words.readlines()\n",
    "\n",
    "print(wordlist[0:10])"
   ]
  },
  {
   "cell_type": "code",
   "execution_count": 3,
   "metadata": {},
   "outputs": [
    {
     "name": "stdout",
     "output_type": "stream",
     "text": [
      "['a', 'aa', 'aaa', 'aah', 'aahed', 'aahing', 'aahs', 'aal', 'aalii', 'aaliis']\n"
     ]
    }
   ],
   "source": [
    "# You will notice that each word is followed by '\\n' - a new line character.  \n",
    "# In order to be able to find anagrams, we need to do two things - (1) remove the new line character from each word\n",
    "# and (2) convert each word to lower case\n",
    "# NOTE: The statement below uses a Python comprehension instead of a standard for loop.  \n",
    "# If you are up to the challenge, can you rewrite this comprehension as a for loop?\n",
    "wordclean = [word.strip().lower() for word in wordlist]\n",
    "\n",
    "print(wordclean[:10])"
   ]
  },
  {
   "cell_type": "code",
   "execution_count": 4,
   "metadata": {
    "collapsed": true
   },
   "outputs": [],
   "source": [
    "# While this particular list only contains unique words, in real life we have to be concerned with duplicates.\n",
    "# The easiest way to de-dupe a list in Python is to use a 'set'.  Sets are mathematical constructs that only \n",
    "# allow unique values.  Converting a list to a set will automatically remove all duplicates.\n",
    "wordunique = set(wordclean)\n",
    "\n",
    "# Now we need to convert our set back into a list\n",
    "wordunique = list(wordclean)\n",
    "\n",
    "# NOTE:  The same thing could be done in a single statement:\n",
    "# wordunique = list(set(wordclean))"
   ]
  },
  {
   "cell_type": "code",
   "execution_count": 5,
   "metadata": {},
   "outputs": [
    {
     "name": "stdout",
     "output_type": "stream",
     "text": [
      "['a', 'aa', 'aaa', 'aah', 'aahed', 'aahing', 'aahs', 'aal', 'aalii', 'aaliis']\n"
     ]
    }
   ],
   "source": [
    "# Converting our list to a set and back to a list created an unsorted list.  \n",
    "# We need to sort the list in lexiographic order\n",
    "wordunique.sort()\n",
    "\n",
    "# NOTE: Another way to sort a list is with sorted() function:\n",
    "# sorted(wordunique)\n",
    "\n",
    "print(wordunique[:10])"
   ]
  },
  {
   "cell_type": "code",
   "execution_count": 6,
   "metadata": {},
   "outputs": [
    {
     "data": {
      "text/plain": [
       "['e', 'i', 'l', 's', 'v']"
      ]
     },
     "execution_count": 6,
     "metadata": {},
     "output_type": "execute_result"
    }
   ],
   "source": [
    "# Sorting a string is very similar to sorting a list.  Python takes individual characters\n",
    "# that compose the original string and puts them in lexiographic order\n",
    "sorted('lives')"
   ]
  },
  {
   "cell_type": "code",
   "execution_count": 7,
   "metadata": {},
   "outputs": [
    {
     "data": {
      "text/plain": [
       "['e', 'i', 'l', 's', 'v']"
      ]
     },
     "execution_count": 7,
     "metadata": {},
     "output_type": "execute_result"
    }
   ],
   "source": [
    "sorted('elvis')"
   ]
  },
  {
   "cell_type": "code",
   "execution_count": 8,
   "metadata": {},
   "outputs": [
    {
     "data": {
      "text/plain": [
       "True"
      ]
     },
     "execution_count": 8,
     "metadata": {},
     "output_type": "execute_result"
    }
   ],
   "source": [
    "# Let's compare two sorted strings.  If they match, Python will return True\n",
    "# and we will know that they are anagrams of each other.\n",
    "# Think back to boolean expressions:)\n",
    "sorted('lives') == sorted('elvis')"
   ]
  },
  {
   "cell_type": "code",
   "execution_count": 9,
   "metadata": {},
   "outputs": [
    {
     "data": {
      "text/plain": [
       "False"
      ]
     },
     "execution_count": 9,
     "metadata": {},
     "output_type": "execute_result"
    }
   ],
   "source": [
    "# These two do not match - Python will return False\n",
    "sorted('alive') == sorted('dead')"
   ]
  },
  {
   "cell_type": "code",
   "execution_count": 10,
   "metadata": {
    "collapsed": true
   },
   "outputs": [],
   "source": [
    "# Let's create a function that takes a string (in this case a signle word) as a parameter\n",
    "# and returns a 'sorted' version of the word - all characters comprising the word in \n",
    "# lexiographic order\n",
    "def signature(word):\n",
    "    return ''.join(sorted(word))"
   ]
  },
  {
   "cell_type": "code",
   "execution_count": 11,
   "metadata": {},
   "outputs": [
    {
     "data": {
      "text/plain": [
       "'eilsv'"
      ]
     },
     "execution_count": 11,
     "metadata": {},
     "output_type": "execute_result"
    }
   ],
   "source": [
    "# Let's test our function\n",
    "signature('elvis')"
   ]
  },
  {
   "cell_type": "code",
   "execution_count": 12,
   "metadata": {
    "collapsed": true
   },
   "outputs": [],
   "source": [
    "# Now let's write a function that takes a word as a parameter,\n",
    "# iterates through the entire list of words, and finds the first word\n",
    "# that is an anagram of the one passed into the function.\n",
    "def anagram(myword):\n",
    "    for word in wordunique:\n",
    "        if(signature(word) == signature(myword)):\n",
    "            return word"
   ]
  },
  {
   "cell_type": "code",
   "execution_count": 13,
   "metadata": {},
   "outputs": [
    {
     "data": {
      "text/plain": [
       "'dictionary'"
      ]
     },
     "execution_count": 13,
     "metadata": {},
     "output_type": "execute_result"
    }
   ],
   "source": [
    "anagram('dictionary')"
   ]
  },
  {
   "cell_type": "code",
   "execution_count": 15,
   "metadata": {
    "collapsed": true
   },
   "outputs": [],
   "source": [
    "# You will note that the first word that the anagram() function found is the \n",
    "# same word that was passed in as a parameter.  To avoid this, we will add one extra line\n",
    "# to our function\n",
    "def anagram1(myword):\n",
    "    for word in wordunique:\n",
    "        if(word != myword): # If the word is itself, ignore it\n",
    "            if(signature(word) == signature(myword)):\n",
    "                return word"
   ]
  },
  {
   "cell_type": "code",
   "execution_count": 16,
   "metadata": {},
   "outputs": [
    {
     "data": {
      "text/plain": [
       "'indicatory'"
      ]
     },
     "execution_count": 16,
     "metadata": {},
     "output_type": "execute_result"
    }
   ],
   "source": [
    "anagram1('dictionary')"
   ]
  },
  {
   "cell_type": "code",
   "execution_count": null,
   "metadata": {
    "collapsed": true
   },
   "outputs": [],
   "source": []
  }
 ],
 "metadata": {
  "kernelspec": {
   "display_name": "Python 3",
   "language": "python",
   "name": "python3"
  },
  "language_info": {
   "codemirror_mode": {
    "name": "ipython",
    "version": 3
   },
   "file_extension": ".py",
   "mimetype": "text/x-python",
   "name": "python",
   "nbconvert_exporter": "python",
   "pygments_lexer": "ipython3",
   "version": "3.6.3"
  }
 },
 "nbformat": 4,
 "nbformat_minor": 2
}
