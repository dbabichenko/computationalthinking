{
 "cells": [
  {
   "cell_type": "code",
   "execution_count": 39,
   "metadata": {},
   "outputs": [],
   "source": [
    "import copy"
   ]
  },
  {
   "cell_type": "code",
   "execution_count": 50,
   "metadata": {},
   "outputs": [],
   "source": [
    "f = open('nounlist.txt')\n",
    "words = f.readlines()"
   ]
  },
  {
   "cell_type": "code",
   "execution_count": 53,
   "metadata": {},
   "outputs": [],
   "source": [
    "def is_word_in(challenge_word_letters, word):\n",
    "    temp_challenge = copy.deepcopy(challenge_word_letters)\n",
    "    for letter in word:\n",
    "        if letter in temp_challenge:\n",
    "            temp_challenge.remove(letter)\n",
    "        else:\n",
    "            return False\n",
    "    return True\n",
    "            \n",
    "    "
   ]
  },
  {
   "cell_type": "code",
   "execution_count": 60,
   "metadata": {},
   "outputs": [],
   "source": [
    "challenge_word = 'Batrachophobia' #'Pseudopseudohypoparathyroidism'\n",
    "temp = sorted(challenge_word.lower())"
   ]
  },
  {
   "cell_type": "code",
   "execution_count": 61,
   "metadata": {},
   "outputs": [
    {
     "name": "stdout",
     "output_type": "stream",
     "text": [
      "['act', 'actor', 'air', 'apricot', 'arch', 'art', 'bait', 'bar', 'bat', 'bath', 'birch', 'birth', 'bit', 'boar', 'boat', 'bob', 'bobcat', 'boot', 'bra', 'brooch', 'cap', 'captor', 'car', 'carabao', 'carp', 'cart', 'cat', 'chair', 'chap', 'chart', 'chip', 'choir', 'chop', 'coat', 'cob', 'cohort', 'cop', 'cot', 'crab', 'crap', 'cria', 'crib', 'crop', 'habit', 'hair', 'harp', 'hat', 'hip', 'hit', 'hobbit', 'hop', 'oar', 'oat', 'obi', 'pair', 'part', 'pat', 'patch', 'path', 'patio', 'photo', 'pit', 'pita', 'pitch', 'pith', 'poor', 'porch', 'port', 'pot', 'rabbi', 'rabbit', 'rap', 'rat', 'ratio', 'rib', 'riot', 'rip', 'robot', 'root', 'tab', 'taco', 'tap', 'tapioca', 'taro', 'tiara', 'tic', 'tip', 'top', 'topic', 'trap', 'trip', 'troop']\n"
     ]
    }
   ],
   "source": [
    "complete_word_list = []\n",
    "for word in words:\n",
    "    word = word.replace('\\n','')\n",
    "    if is_word_in(temp, word):\n",
    "        complete_word_list.append(word)\n",
    "        \n",
    "print(complete_word_list)"
   ]
  },
  {
   "cell_type": "code",
   "execution_count": null,
   "metadata": {},
   "outputs": [],
   "source": []
  }
 ],
 "metadata": {
  "kernelspec": {
   "display_name": "Python 3",
   "language": "python",
   "name": "python3"
  },
  "language_info": {
   "codemirror_mode": {
    "name": "ipython",
    "version": 3
   },
   "file_extension": ".py",
   "mimetype": "text/x-python",
   "name": "python",
   "nbconvert_exporter": "python",
   "pygments_lexer": "ipython3",
   "version": "3.8.5"
  }
 },
 "nbformat": 4,
 "nbformat_minor": 4
}
