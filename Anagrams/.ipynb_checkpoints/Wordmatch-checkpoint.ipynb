{
 "cells": [
  {
   "cell_type": "code",
   "execution_count": 39,
   "metadata": {},
   "outputs": [],
   "source": [
    "import copy"
   ]
  },
  {
   "cell_type": "code",
   "execution_count": 50,
   "metadata": {},
   "outputs": [],
   "source": [
    "f = open('nounlist.txt')\n",
    "words = f.readlines()"
   ]
  },
  {
   "cell_type": "code",
   "execution_count": 53,
   "metadata": {},
   "outputs": [],
   "source": [
    "def is_word_in(challenge_word_letters, word):\n",
    "    temp_challenge = copy.deepcopy(challenge_word_letters)\n",
    "    for letter in word:\n",
    "        if letter in temp_challenge:\n",
    "            temp_challenge.remove(letter)\n",
    "        else:\n",
    "            return False\n",
    "    return True\n",
    "            \n",
    "    "
   ]
  },
  {
   "cell_type": "code",
   "execution_count": 58,
   "metadata": {},
   "outputs": [],
   "source": [
    "challenge_word = 'Batrachophobia' #'Pseudopseudohypoparathyroidism'\n",
    "temp = sorted(challenge_word.lower())"
   ]
  },
  {
   "cell_type": "code",
   "execution_count": 59,
   "metadata": {},
   "outputs": [
    {
     "name": "stdout",
     "output_type": "stream",
     "text": [
      "['aim', 'amount', 'ant', 'atom', 'aunt', 'auto', 'automation', 'automaton', 'bait', 'ban', 'bat', 'bath', 'bin', 'bit', 'boat', 'boom', 'boon', 'boot', 'bottom', 'bout', 'bump', 'bun', 'button', 'habit', 'habitat', 'ham', 'hat', 'haunt', 'hint', 'hip', 'hit', 'hop', 'hub', 'human', 'hunt', 'hut', 'input', 'main', 'man', 'mantua', 'map', 'mat', 'math', 'min', 'mint', 'moai', 'moat', 'mob', 'month', 'moon', 'mop', 'moth', 'motion', 'mouth', 'mouton', 'mutation', 'mutt', 'mutton', 'nit', 'nut', 'oat', 'obi', 'opium', 'option', 'ottoman', 'pain', 'paint', 'pan', 'pat', 'path', 'patina', 'patio', 'photo', 'piano', 'pin', 'pinot', 'pint', 'pinto', 'pit', 'pita', 'pith', 'point', 'pot', 'potato', 'pub', 'puma', 'pun', 'put', 'tab', 'tan', 'tap', 'tatami', 'thumb', 'thump', 'tin', 'tip', 'tomato', 'tomb', 'ton', 'toot', 'tooth', 'top', 'tub', 'tuba', 'tuna', 'unit']\n"
     ]
    }
   ],
   "source": [
    "complete_word_list = []\n",
    "for word in words:\n",
    "    word = word.replace('\\n','')\n",
    "    if is_word_in(temp, word):\n",
    "        complete_word_list.append(word)\n",
    "        \n",
    "print(complete_word_list)"
   ]
  },
  {
   "cell_type": "code",
   "execution_count": null,
   "metadata": {},
   "outputs": [],
   "source": []
  }
 ],
 "metadata": {
  "kernelspec": {
   "display_name": "Python 3",
   "language": "python",
   "name": "python3"
  },
  "language_info": {
   "codemirror_mode": {
    "name": "ipython",
    "version": 3
   },
   "file_extension": ".py",
   "mimetype": "text/x-python",
   "name": "python",
   "nbconvert_exporter": "python",
   "pygments_lexer": "ipython3",
   "version": "3.8.5"
  }
 },
 "nbformat": 4,
 "nbformat_minor": 4
}
