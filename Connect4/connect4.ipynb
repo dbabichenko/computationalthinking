{
 "cells": [
  {
   "cell_type": "markdown",
   "metadata": {},
   "source": [
    "### Connect 4 Tutorial\n",
    "\n",
    "Adapted from: \n",
    "* https://github.com/KeithGalli/Connect4-Python\n",
    "* https://medium.com/analytics-vidhya/artificial-intelligence-at-play-connect-four-minimax-algorithm-explained-3b5fc32e4a4f\n",
    "\n",
    "Video walkthrough:\n",
    "* Video walkthrough on programming this game: https://youtu.be/UYgyRArKDEs\n",
    "* Video walkthrough on programming the AI: https://youtu.be/MMLtza3CZFM"
   ]
  },
  {
   "cell_type": "code",
   "execution_count": 1,
   "metadata": {},
   "outputs": [
    {
     "name": "stdout",
     "output_type": "stream",
     "text": [
      "pygame 2.0.1 (SDL 2.0.14, Python 3.8.5)\n",
      "Hello from the pygame community. https://www.pygame.org/contribute.html\n"
     ]
    }
   ],
   "source": [
    "import numpy as np\n",
    "import pygame\n",
    "import sys\n",
    "import math"
   ]
  },
  {
   "cell_type": "code",
   "execution_count": 2,
   "metadata": {},
   "outputs": [],
   "source": [
    "BLUE = (0,0,255)\n",
    "BLACK = (0,0,0)\n",
    "RED = (255,0,0)\n",
    "YELLOW = (255,255,0)\n",
    "\n",
    "ROW_COUNT = 6\n",
    "COLUMN_COUNT = 7"
   ]
  },
  {
   "cell_type": "code",
   "execution_count": 3,
   "metadata": {},
   "outputs": [],
   "source": [
    "def create_board():\n",
    "\tboard = np.zeros((ROW_COUNT,COLUMN_COUNT))\n",
    "\treturn board\n",
    "\n",
    "def drop_piece(board, row, col, piece):\n",
    "\tboard[row][col] = piece\n",
    "\n",
    "def is_valid_location(board, col):\n",
    "\treturn board[ROW_COUNT-1][col] == 0\n",
    "\n",
    "def get_next_open_row(board, col):\n",
    "\tfor r in range(ROW_COUNT):\n",
    "\t\tif board[r][col] == 0:\n",
    "\t\t\treturn r\n",
    "\n",
    "def print_board(board):\n",
    "\tprint(np.flip(board, 0))\n",
    "\n",
    "def winning_move(board, piece):\n",
    "\t# Check horizontal locations for win\n",
    "\tfor c in range(COLUMN_COUNT-3):\n",
    "\t\tfor r in range(ROW_COUNT):\n",
    "\t\t\tif board[r][c] == piece and board[r][c+1] == piece and board[r][c+2] == piece and board[r][c+3] == piece:\n",
    "\t\t\t\treturn True\n",
    "\n",
    "\t# Check vertical locations for win\n",
    "\tfor c in range(COLUMN_COUNT):\n",
    "\t\tfor r in range(ROW_COUNT-3):\n",
    "\t\t\tif board[r][c] == piece and board[r+1][c] == piece and board[r+2][c] == piece and board[r+3][c] == piece:\n",
    "\t\t\t\treturn True\n",
    "\n",
    "\t# Check positively sloped diaganols\n",
    "\tfor c in range(COLUMN_COUNT-3):\n",
    "\t\tfor r in range(ROW_COUNT-3):\n",
    "\t\t\tif board[r][c] == piece and board[r+1][c+1] == piece and board[r+2][c+2] == piece and board[r+3][c+3] == piece:\n",
    "\t\t\t\treturn True\n",
    "\n",
    "\t# Check negatively sloped diaganols\n",
    "\tfor c in range(COLUMN_COUNT-3):\n",
    "\t\tfor r in range(3, ROW_COUNT):\n",
    "\t\t\tif board[r][c] == piece and board[r-1][c+1] == piece and board[r-2][c+2] == piece and board[r-3][c+3] == piece:\n",
    "\t\t\t\treturn True\n",
    "\n",
    "def draw_board(board):\n",
    "\tfor c in range(COLUMN_COUNT):\n",
    "\t\tfor r in range(ROW_COUNT):\n",
    "\t\t\tpygame.draw.rect(screen, BLUE, (c*SQUARESIZE, r*SQUARESIZE+SQUARESIZE, SQUARESIZE, SQUARESIZE))\n",
    "\t\t\tpygame.draw.circle(screen, BLACK, (int(c*SQUARESIZE+SQUARESIZE/2), int(r*SQUARESIZE+SQUARESIZE+SQUARESIZE/2)), RADIUS)\n",
    "\t\n",
    "\tfor c in range(COLUMN_COUNT):\n",
    "\t\tfor r in range(ROW_COUNT):\t\t\n",
    "\t\t\tif board[r][c] == 1:\n",
    "\t\t\t\tpygame.draw.circle(screen, RED, (int(c*SQUARESIZE+SQUARESIZE/2), height-int(r*SQUARESIZE+SQUARESIZE/2)), RADIUS)\n",
    "\t\t\telif board[r][c] == 2: \n",
    "\t\t\t\tpygame.draw.circle(screen, YELLOW, (int(c*SQUARESIZE+SQUARESIZE/2), height-int(r*SQUARESIZE+SQUARESIZE/2)), RADIUS)\n",
    "\tpygame.display.update()"
   ]
  },
  {
   "cell_type": "code",
   "execution_count": 4,
   "metadata": {},
   "outputs": [
    {
     "name": "stdout",
     "output_type": "stream",
     "text": [
      "[[0. 0. 0. 0. 0. 0. 0.]\n",
      " [0. 0. 0. 0. 0. 0. 0.]\n",
      " [0. 0. 0. 0. 0. 0. 0.]\n",
      " [0. 0. 0. 0. 0. 0. 0.]\n",
      " [0. 0. 0. 0. 0. 0. 0.]\n",
      " [0. 0. 0. 0. 0. 0. 0.]]\n"
     ]
    },
    {
     "ename": "KeyboardInterrupt",
     "evalue": "",
     "output_type": "error",
     "traceback": [
      "\u001b[0;31m---------------------------------------------------------------------------\u001b[0m",
      "\u001b[0;31mKeyboardInterrupt\u001b[0m                         Traceback (most recent call last)",
      "\u001b[0;32m<ipython-input-4-588749ee8829>\u001b[0m in \u001b[0;36m<module>\u001b[0;34m\u001b[0m\n\u001b[1;32m     23\u001b[0m \u001b[0;32mwhile\u001b[0m \u001b[0;32mnot\u001b[0m \u001b[0mgame_over\u001b[0m\u001b[0;34m:\u001b[0m\u001b[0;34m\u001b[0m\u001b[0;34m\u001b[0m\u001b[0m\n\u001b[1;32m     24\u001b[0m \u001b[0;34m\u001b[0m\u001b[0m\n\u001b[0;32m---> 25\u001b[0;31m         \u001b[0;32mfor\u001b[0m \u001b[0mevent\u001b[0m \u001b[0;32min\u001b[0m \u001b[0mpygame\u001b[0m\u001b[0;34m.\u001b[0m\u001b[0mevent\u001b[0m\u001b[0;34m.\u001b[0m\u001b[0mget\u001b[0m\u001b[0;34m(\u001b[0m\u001b[0;34m)\u001b[0m\u001b[0;34m:\u001b[0m\u001b[0;34m\u001b[0m\u001b[0;34m\u001b[0m\u001b[0m\n\u001b[0m\u001b[1;32m     26\u001b[0m                 \u001b[0;32mif\u001b[0m \u001b[0mevent\u001b[0m\u001b[0;34m.\u001b[0m\u001b[0mtype\u001b[0m \u001b[0;34m==\u001b[0m \u001b[0mpygame\u001b[0m\u001b[0;34m.\u001b[0m\u001b[0mQUIT\u001b[0m\u001b[0;34m:\u001b[0m\u001b[0;34m\u001b[0m\u001b[0;34m\u001b[0m\u001b[0m\n\u001b[1;32m     27\u001b[0m                         \u001b[0msys\u001b[0m\u001b[0;34m.\u001b[0m\u001b[0mexit\u001b[0m\u001b[0;34m(\u001b[0m\u001b[0;34m)\u001b[0m\u001b[0;34m\u001b[0m\u001b[0;34m\u001b[0m\u001b[0m\n",
      "\u001b[0;31mKeyboardInterrupt\u001b[0m: "
     ]
    }
   ],
   "source": [
    "board = create_board()\n",
    "print_board(board)\n",
    "game_over = False\n",
    "turn = 0\n",
    "\n",
    "pygame.init()\n",
    "\n",
    "SQUARESIZE = 100\n",
    "\n",
    "width = COLUMN_COUNT * SQUARESIZE\n",
    "height = (ROW_COUNT+1) * SQUARESIZE\n",
    "\n",
    "size = (width, height)\n",
    "\n",
    "RADIUS = int(SQUARESIZE/2 - 5)\n",
    "\n",
    "screen = pygame.display.set_mode(size)\n",
    "draw_board(board)\n",
    "pygame.display.update()\n",
    "\n",
    "myfont = pygame.font.SysFont(\"monospace\", 75)\n",
    "\n",
    "while not game_over:\n",
    "\n",
    "\tfor event in pygame.event.get():\n",
    "\t\tif event.type == pygame.QUIT:\n",
    "\t\t\tsys.exit()\n",
    "\n",
    "\t\tif event.type == pygame.MOUSEMOTION:\n",
    "\t\t\tpygame.draw.rect(screen, BLACK, (0,0, width, SQUARESIZE))\n",
    "\t\t\tposx = event.pos[0]\n",
    "\t\t\tif turn == 0:\n",
    "\t\t\t\tpygame.draw.circle(screen, RED, (posx, int(SQUARESIZE/2)), RADIUS)\n",
    "\t\t\telse: \n",
    "\t\t\t\tpygame.draw.circle(screen, YELLOW, (posx, int(SQUARESIZE/2)), RADIUS)\n",
    "\t\tpygame.display.update()\n",
    "\n",
    "\t\tif event.type == pygame.MOUSEBUTTONDOWN:\n",
    "\t\t\tpygame.draw.rect(screen, BLACK, (0,0, width, SQUARESIZE))\n",
    "\t\t\t#print(event.pos)\n",
    "\t\t\t# Ask for Player 1 Input\n",
    "\t\t\tif turn == 0:\n",
    "\t\t\t\tposx = event.pos[0]\n",
    "\t\t\t\tcol = int(math.floor(posx/SQUARESIZE))\n",
    "\n",
    "\t\t\t\tif is_valid_location(board, col):\n",
    "\t\t\t\t\trow = get_next_open_row(board, col)\n",
    "\t\t\t\t\tdrop_piece(board, row, col, 1)\n",
    "\n",
    "\t\t\t\t\tif winning_move(board, 1):\n",
    "\t\t\t\t\t\tlabel = myfont.render(\"Player 1 wins!!\", 1, RED)\n",
    "\t\t\t\t\t\tscreen.blit(label, (40,10))\n",
    "\t\t\t\t\t\tgame_over = True\n",
    "\n",
    "\n",
    "\t\t\t# # Ask for Player 2 Input\n",
    "\t\t\telse:\t\t\t\t\n",
    "\t\t\t\tposx = event.pos[0]\n",
    "\t\t\t\tcol = int(math.floor(posx/SQUARESIZE))\n",
    "\n",
    "\t\t\t\tif is_valid_location(board, col):\n",
    "\t\t\t\t\trow = get_next_open_row(board, col)\n",
    "\t\t\t\t\tdrop_piece(board, row, col, 2)\n",
    "\n",
    "\t\t\t\t\tif winning_move(board, 2):\n",
    "\t\t\t\t\t\tlabel = myfont.render(\"Player 2 wins!!\", 1, YELLOW)\n",
    "\t\t\t\t\t\tscreen.blit(label, (40,10))\n",
    "\t\t\t\t\t\tgame_over = True\n",
    "\n",
    "\t\t\tprint_board(board)\n",
    "\t\t\tdraw_board(board)\n",
    "\n",
    "\t\t\tturn += 1\n",
    "\t\t\tturn = turn % 2\n",
    "\n",
    "\t\t\tif game_over:\n",
    "\t\t\t\tpygame.time.wait(3000)"
   ]
  },
  {
   "cell_type": "code",
   "execution_count": null,
   "metadata": {},
   "outputs": [],
   "source": []
  }
 ],
 "metadata": {
  "kernelspec": {
   "display_name": "Python 3",
   "language": "python",
   "name": "python3"
  },
  "language_info": {
   "codemirror_mode": {
    "name": "ipython",
    "version": 3
   },
   "file_extension": ".py",
   "mimetype": "text/x-python",
   "name": "python",
   "nbconvert_exporter": "python",
   "pygments_lexer": "ipython3",
   "version": "3.8.5"
  }
 },
 "nbformat": 4,
 "nbformat_minor": 4
}
