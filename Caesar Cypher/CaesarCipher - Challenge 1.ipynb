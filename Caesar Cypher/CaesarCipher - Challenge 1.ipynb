{
 "cells": [
  {
   "cell_type": "markdown",
   "metadata": {},
   "source": [
    "**Caesar Cipher - Challenge 1**\n",
    "\n",
    "In cryptography, a Caesar cipher, also known as Caesar's cipher, the shift cipher,\n",
    "Caesar's code or Caesar shift, is one of the simplest and most widely known encryption techniques.\n",
    "It is a type of substitution cipher in which each letter in the plaintext is replaced by a\n",
    "letter some fixed number of positions down the alphabet. For example, with a left shift of 3,\n",
    "D would be replaced by A, E would become B, and so on. The method is named after Julius Caesar,\n",
    "who used it in his private correspondence. (https://en.wikipedia.org/wiki/Caesar_cipher)\n",
    "\n",
    "For example, if you wanted to shift 'A' by three spaces, the algorithm will be as follows:\n",
    "    (1) Convert 'A' to its ASCII value (65).\n",
    "    (2) Add 3 to 65, to get 68.\n",
    "    (3) Convert the ordinal 68 back to a letter ('D')\n",
    "    \n",
    "** CHALLENGE **\n",
    "\n",
    "In this case, our input will be a string of text that has already been encrypted using\n",
    "Caesar's cipher.  Modify the program to decrypt encrypted text."
   ]
  },
  {
   "cell_type": "code",
   "execution_count": 7,
   "metadata": {},
   "outputs": [
    {
     "name": "stdout",
     "output_type": "stream",
     "text": [
      "Enter plain text message: lol\n",
      "Plaintext: lol\n"
     ]
    }
   ],
   "source": [
    "# Get plaintext - the text that you would like to encrypt\n",
    "plaintext = input('Enter plain text message: ')\n",
    "\n",
    "print(\"Plaintext: \" + plaintext)"
   ]
  },
  {
   "cell_type": "code",
   "execution_count": 8,
   "metadata": {},
   "outputs": [
    {
     "name": "stdout",
     "output_type": "stream",
     "text": [
      "By how many characters would you like to shift the cipher?3\n",
      "Shift cipher by: 3\n"
     ]
    }
   ],
   "source": [
    "# Get the shift number - by how many characters would you like to shift the cipher\n",
    "shift_text = input('By how many characters would you like to shift the cipher?')\n",
    "\n",
    "print(\"Shift cipher by: \" + shift_text)"
   ]
  },
  {
   "cell_type": "code",
   "execution_count": 9,
   "metadata": {
    "collapsed": true
   },
   "outputs": [],
   "source": [
    "# Values entered through user input are stored as strings (String data type).  We need to\n",
    "# convert shift value from string to int\n",
    "shift_value = int(shift_text)"
   ]
  },
  {
   "cell_type": "code",
   "execution_count": 10,
   "metadata": {},
   "outputs": [
    {
     "name": "stdout",
     "output_type": "stream",
     "text": [
      "Your decrypted message is: ili\n"
     ]
    }
   ],
   "source": [
    "# Declare and initialize the variable that will store the encrypted text\n",
    "cipher = ''\n",
    "\n",
    "# Basic error handling.\n",
    "# Since English alphabet contains 26 letters - you cannot shift your cipher by more than 26\n",
    "if shift_value < 1 or shift_value > 26:\n",
    "    print(\"English alphabet contains 26 letters - you cannot shift your cipher by more than 26\")\n",
    "else:\n",
    "    # Iterate (loop) through each letter of user-entered plaintext\n",
    "    for letter in plaintext:\n",
    "        # Shift each letter by specified shift value.\n",
    "        # Note that the ord() function returns the ASCII value of a character\n",
    "        c = (ord(letter) - shift_value) % 126\n",
    "\n",
    "        # 32 is the ASCII code for space, the lowest ASCII code that represents a\n",
    "        # character that may be used in text.\n",
    "        if c < 32:\n",
    "            c += 95\n",
    "\n",
    "        # Append shifted letter to the encrypted result\n",
    "        cipher += chr(c)\n",
    "\n",
    "    # Print result\n",
    "    print('Your decrypted message is: ' + cipher)"
   ]
  },
  {
   "cell_type": "code",
   "execution_count": null,
   "metadata": {
    "collapsed": true
   },
   "outputs": [],
   "source": []
  }
 ],
 "metadata": {
  "kernelspec": {
   "display_name": "Python 3",
   "language": "python",
   "name": "python3"
  },
  "language_info": {
   "codemirror_mode": {
    "name": "ipython",
    "version": 3
   },
   "file_extension": ".py",
   "mimetype": "text/x-python",
   "name": "python",
   "nbconvert_exporter": "python",
   "pygments_lexer": "ipython3",
   "version": "3.6.3"
  }
 },
 "nbformat": 4,
 "nbformat_minor": 2
}
