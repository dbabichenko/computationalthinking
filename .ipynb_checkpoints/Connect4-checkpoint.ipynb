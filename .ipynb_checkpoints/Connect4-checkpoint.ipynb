{
 "cells": [
  {
   "cell_type": "code",
   "execution_count": null,
   "metadata": {},
   "outputs": [],
   "source": [
    "def minimax(board, depth, alpha, beta, maximizingPlayer):\n",
    "\tvalid_locations = get_valid_locations(board)\n",
    "\tis_terminal = is_terminal_node(board)\n",
    "\tif depth == 0 or is_terminal:\n",
    "\t\tif is_terminal:\n",
    "\t\t\tif winning_move(board, AI_PIECE):\n",
    "\t\t\t\treturn (None, 100000000000000)\n",
    "\t\t\telif winning_move(board, PLAYER_PIECE):\n",
    "\t\t\t\treturn (None, -10000000000000)\n",
    "\t\t\telse: # Game is over, no more valid moves\n",
    "\t\t\t\treturn (None, 0)\n",
    "\t\telse: # Depth is zero\n",
    "\t\t\treturn (None, score_position(board, AI_PIECE))\n",
    "\tif maximizingPlayer:\n",
    "\t\tvalue = -math.inf\n",
    "\t\tcolumn = random.choice(valid_locations)\n",
    "\t\tfor col in valid_locations:\n",
    "\t\t\trow = get_next_open_row(board, col)\n",
    "\t\t\tb_copy = board.copy()\n",
    "\t\t\tdrop_piece(b_copy, row, col, AI_PIECE)\n",
    "\t\t\tnew_score = minimax(b_copy, depth-1, alpha, beta, False)[1]\n",
    "\t\t\tif new_score > value:\n",
    "\t\t\t\tvalue = new_score\n",
    "\t\t\t\tcolumn = col\n",
    "\t\t\talpha = max(alpha, value)\n",
    "\t\t\tif alpha >= beta:\n",
    "\t\t\t\tbreak\n",
    "\t\treturn column, value\n",
    "\n",
    "\telse: # Minimizing player\n",
    "\t\tvalue = math.inf\n",
    "\t\tcolumn = random.choice(valid_locations)\n",
    "\t\tfor col in valid_locations:\n",
    "\t\t\trow = get_next_open_row(board, col)\n",
    "\t\t\tb_copy = board.copy()\n",
    "\t\t\tdrop_piece(b_copy, row, col, PLAYER_PIECE)\n",
    "\t\t\tnew_score = minimax(b_copy, depth-1, alpha, beta, True)[1]\n",
    "\t\t\tif new_score < value:\n",
    "\t\t\t\tvalue = new_score\n",
    "\t\t\t\tcolumn = col\n",
    "\t\t\tbeta = min(beta, value)\n",
    "\t\t\tif alpha >= beta:\n",
    "\t\t\t\tbreak\n",
    "\t\treturn column, value"
   ]
  }
 ],
 "metadata": {
  "kernelspec": {
   "display_name": "Python 3",
   "language": "python",
   "name": "python3"
  },
  "language_info": {
   "codemirror_mode": {
    "name": "ipython",
    "version": 3
   },
   "file_extension": ".py",
   "mimetype": "text/x-python",
   "name": "python",
   "nbconvert_exporter": "python",
   "pygments_lexer": "ipython3",
   "version": "3.8.5"
  }
 },
 "nbformat": 4,
 "nbformat_minor": 4
}
