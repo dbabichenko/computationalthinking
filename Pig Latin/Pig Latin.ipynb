{
 "cells": [
  {
   "cell_type": "markdown",
   "metadata": {},
   "source": [
    "## Pig Latin Translator\n",
    "\n",
    "Pig Latin is a language game or argot in which words in English are altered, usually by adding a fabricated suffix or by moving the onset or initial consonant or consonant cluster of a word to the end of the word and adding a vocalic syllable to create such a suffix. \n",
    "\n",
    "For example, \"Wikipedia\" would become \"Ikipediaway\" (the \"W\" is moved from the beginning and has \"ay\" appended to create a suffix). \n",
    "\n",
    "The objective is to conceal the words from others not familiar with the rules. The reference to Latin is a deliberate misnomer; Pig Latin is simply a form of argot or jargon unrelated to Latin, and the name is used for its English connotations as a strange and foreign-sounding language. It is most often used by young children as a fun way to confuse people unfamiliar with Pig Latin.\n",
    "\n",
    "https://github.com/rlvaugh/Impractical_Python_Projects/blob/master/Chapter_1/pig_Latin_practice.py"
   ]
  },
  {
   "cell_type": "markdown",
   "metadata": {},
   "source": [
    "### Concepts Illustrated\n",
    "* Python variables\n",
    "* *string* operations\n",
    "* control structures\n",
    "* *while* loop\n",
    "* *break* statement\n",
    "\n",
    "\n",
    "This example is based on the implementation provided by Impractical Python Projects at https://github.com/rlvaugh/Impractical_Python_Projects\n"
   ]
  },
  {
   "cell_type": "code",
   "execution_count": null,
   "metadata": {},
   "outputs": [
    {
     "name": "stdout",
     "output_type": "stream",
     "text": [
      "Type a word and get its pig Latin translation: dmitriy\n",
      "mitriyday\n"
     ]
    }
   ],
   "source": [
    "# Create a list of vowel characters\n",
    "vowels_list = 'aeiouy'\n",
    "\n",
    "# Create an infinite loop\n",
    "while True:\n",
    "    # Get user input\n",
    "    word = input(\"Type a word and get its pig Latin translation: \")\n",
    "\n",
    "    if word[0] in vowels_list:\n",
    "        # If the first letter of the word is a vowel, add \"way\" to the end of the word\n",
    "        pig_latin = word + 'way'\n",
    "    else:\n",
    "        # If the first letter of the word is a consonant, move the first letter to the end of the word\n",
    "        # and add \"ay\" to the end of the word\n",
    "        pig_latin = word[1:] + word[0] + 'ay'\n",
    "    \n",
    "    # Print the pig latin translation\n",
    "    print(pig_latin)\n",
    "    \n",
    "    # Ask if the user wants to try again\n",
    "    try_again = input(\"Try again? (Press Enter else n to stop)\\n \")\n",
    "    \n",
    "    # If user enters \"no\", exit \n",
    "    if try_again.lower() == \"no\":\n",
    "        break"
   ]
  },
  {
   "cell_type": "code",
   "execution_count": null,
   "metadata": {
    "collapsed": true
   },
   "outputs": [],
   "source": []
  }
 ],
 "metadata": {
  "kernelspec": {
   "display_name": "Python 3",
   "language": "python",
   "name": "python3"
  },
  "language_info": {
   "codemirror_mode": {
    "name": "ipython",
    "version": 3
   },
   "file_extension": ".py",
   "mimetype": "text/x-python",
   "name": "python",
   "nbconvert_exporter": "python",
   "pygments_lexer": "ipython3",
   "version": "3.6.3"
  }
 },
 "nbformat": 4,
 "nbformat_minor": 2
}
