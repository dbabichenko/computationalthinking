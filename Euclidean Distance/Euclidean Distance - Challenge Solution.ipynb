{
 "cells": [
  {
   "cell_type": "markdown",
   "metadata": {},
   "source": [
    "** Euclidean Distance **\n",
    "\n",
    "This program takes values x1, x2, y1, and y2 representing two points on a Cartesian plane as input. <br>\n",
    "\n",
    "The program uses the formula for [Euclidean distance](https://en.wikipedia.org/wiki/Euclidean_distance) to calculate how much distance is between the two points. If x = (x1, x2) and y = (y1, y2), then the distance is given by d(x, y) = sqrt((x1 - y1)^2 + (x2 - y2)^2)\n",
    "\n",
    "** Challenge **\n",
    "\n",
    "Modify the functionality of the program to also give the midpoint between the two original points. If x = (x1, x2) and y = (y1, y2), then the midpoint is given by m(x, y) = (x1 + y1 / 2, x2 + y2 / 2)."
   ]
  },
  {
   "cell_type": "code",
   "execution_count": 1,
   "metadata": {
    "collapsed": true
   },
   "outputs": [],
   "source": [
    "# A module allows you to logically organize your Python code. Grouping related code into a module\n",
    "# makes the code easier to understand and use.\n",
    "# Simply, a module is a file consisting of Python code. A module can define functions, classes and variables.\n",
    "# A module can also include runnable code.\n",
    "# math module gives us access to special functions that perform mathematical operations, functions such as square root or power\n",
    "import math"
   ]
  },
  {
   "cell_type": "code",
   "execution_count": 2,
   "metadata": {},
   "outputs": [
    {
     "name": "stdout",
     "output_type": "stream",
     "text": [
      "Please enter a value for x1: 0\n",
      "Please enter a value for x2: 0\n",
      "Please enter a value for y1: 2\n",
      "Please enter a value for y2: 2\n"
     ]
    }
   ],
   "source": [
    "# Get user input for coordinate values\n",
    "x1_input = input(\"Please enter a value for x1: \")\n",
    "x2_input = input(\"Please enter a value for x2: \")\n",
    "y1_input = input(\"Please enter a value for y1: \")\n",
    "y2_input = input(\"Please enter a value for y2: \")"
   ]
  },
  {
   "cell_type": "code",
   "execution_count": 3,
   "metadata": {
    "collapsed": true
   },
   "outputs": [],
   "source": [
    "# Values entered through user input are stored as strings (String data type).  We need to\n",
    "# convert the coordinates from String to float\n",
    "x1 = float(x1_input)\n",
    "x2 = float(x2_input)\n",
    "y1 = float(y1_input)\n",
    "y2 = float(y2_input)"
   ]
  },
  {
   "cell_type": "code",
   "execution_count": 4,
   "metadata": {
    "collapsed": true
   },
   "outputs": [],
   "source": [
    "# Math.pow(a, b) is a function that takes the value of the first argument \"a\"\n",
    "# and raises it to the power of the second argument \"b\"\n",
    "# Note that ** (double asterisk) is an exponent operand.  It performs exponential (power) calculation on operators\n",
    "\n",
    "# Calculate square of first coordinates\n",
    "squareFirst = (x1 - y1) ** 2\n",
    "\n",
    "# Calculate square of second coordinates\n",
    "squareSecond = (x2 - y2) ** 2"
   ]
  },
  {
   "cell_type": "code",
   "execution_count": 5,
   "metadata": {
    "collapsed": true
   },
   "outputs": [],
   "source": [
    "# Math.sqrt(a) function calculates the square root of the argument \"a\"\n",
    "\n",
    "# Calculate the distance using the preliminary calculations from above\n",
    "distance = math.sqrt(squareFirst + squareSecond)"
   ]
  },
  {
   "cell_type": "code",
   "execution_count": 6,
   "metadata": {},
   "outputs": [
    {
     "name": "stdout",
     "output_type": "stream",
     "text": [
      "The distance between (0.0, 0.0) and (2.0, 2.0) is 2.8284271247461903\n"
     ]
    }
   ],
   "source": [
    "# Print out the distance results\n",
    "print(\"The distance between (\" + str(x1) + \", \" + str(x2) + \") and (\" + str(y1) + \", \" + str(y2) + \") is \" + str(distance))"
   ]
  },
  {
   "cell_type": "code",
   "execution_count": 7,
   "metadata": {},
   "outputs": [
    {
     "name": "stdout",
     "output_type": "stream",
     "text": [
      "The midpoint between (0.0, 0.0) and (2.0, 2.0) is (1.0, 1.0)\n"
     ]
    }
   ],
   "source": [
    "# Calculate the x-coordinate of the midpoint\n",
    "midpointX = x1 + y1 / 2;\n",
    "\n",
    "# Calculate the y-coordinate of the midpoint\n",
    "midpointY = x2 + y2 / 2;\n",
    "\n",
    "# Print the midpoint results\n",
    "print(\"The midpoint between (\" + str(x1) + \", \" + str(x2) + \") and (\" + str(y1) + \", \" + str(y2) + \") is (\" + str(midpointX) + \", \" + str(midpointY) + \")\")"
   ]
  },
  {
   "cell_type": "code",
   "execution_count": null,
   "metadata": {
    "collapsed": true
   },
   "outputs": [],
   "source": []
  }
 ],
 "metadata": {
  "kernelspec": {
   "display_name": "Python 3",
   "language": "python",
   "name": "python3"
  },
  "language_info": {
   "codemirror_mode": {
    "name": "ipython",
    "version": 3
   },
   "file_extension": ".py",
   "mimetype": "text/x-python",
   "name": "python",
   "nbconvert_exporter": "python",
   "pygments_lexer": "ipython3",
   "version": "3.6.3"
  }
 },
 "nbformat": 4,
 "nbformat_minor": 2
}
