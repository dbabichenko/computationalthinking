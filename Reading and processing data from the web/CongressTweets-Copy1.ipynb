{
 "cells": [
  {
   "cell_type": "markdown",
   "metadata": {},
   "source": [
    "** Working with JSON data **\n",
    "\n",
    "JSON (JavaScript Object Notation) is a lightweight data-interchange format. It is easy for humans to read and write. It is easy for machines to parse and generate. JSON is a text format that is completely language independent but uses conventions that are familiar to programmers of the C-family of languages, including C, C++, C#, Java, JavaScript, Perl, Python, and many others. \n",
    "\n",
    "JSON is built on two structures:\n",
    "    \n",
    "1. A collection of name/value pairs - you are already familiar with this concept through working with Python dictionaries\n",
    "2. An ordered list of values - you are already familiar with this concept through working with Python lists\n",
    "    \n",
    "More information on JSON is available at https://www.json.org/\n",
    "\n",
    "The data for this tutorial came from Tweets of Congress daily archives: https://freegovinfo.info/node/tag/twitter-data and https://alexlitel.github.io/congresstweets/"
   ]
  },
  {
   "cell_type": "code",
   "execution_count": 1,
   "metadata": {
    "collapsed": true
   },
   "outputs": [],
   "source": [
    "import csv\n",
    "\n",
    "# The os module provides a portable way of using operating system dependent functionality. \n",
    "# For example, Windows and Mac operating systems use different path notations for files. \n",
    "# On a Mac, you may see a path to a file or a folder listed as /var/www/html/folder\n",
    "# On a Windows computer, the same path would be expressed as C:\\var\\www\\html\\folder\n",
    "# The os module hides these differences from the programmer and makes programs written in Python\n",
    "# more operating system-independent\n",
    "import os\n",
    "\n",
    "\n",
    "# The json library can parse JSON from strings or files. \n",
    "# The library parses JSON into a Python dictionary or list. \n",
    "# It can also convert Python dictionaries or lists into JSON strings.\n",
    "# http://docs.python-guide.org/en/latest/scenarios/json/\n",
    "import json"
   ]
  },
  {
   "cell_type": "code",
   "execution_count": 5,
   "metadata": {},
   "outputs": [
    {
     "name": "stdout",
     "output_type": "stream",
     "text": [
      "/Users/dmitriyb/Box Sync/TEACHING/2017-2018/Python for Data Management and Analytics/Python Materials/06 - Reading and processing data from the web\n",
      "/Users/dmitriyb/Box Sync/TEACHING/2017-2018/Python for Data Management and Analytics/Python Materials/06 - Reading and processing data from the web/congress_tweets\n"
     ]
    }
   ],
   "source": [
    "# As a first step, we need to get the current working directory.  \n",
    "# What that means is that in order for us to access a list of files that reside somewhere on \n",
    "# a hard drive, we need a starting point. Generally, that starting point is the director where\n",
    "# the current script is located (this file).  From that directory, we can figure out a relative path \n",
    "# to a subfolder that we need and the files located in that subfolder.\n",
    "# For more information on relative vs. absolute paths review the following resources:\n",
    "# https://en.wikipedia.org/wiki/Path_(computing)\n",
    "# http://resources.esri.com/help/9.3/ArcGISengine/java/Gp_ToolRef/sharing_tools_and_toolboxes/pathnames_explained_colon_absolute_relative_unc_and_url.htm\n",
    "\n",
    "\n",
    "# Get current working directory\n",
    "cwd = os.getcwd()\n",
    "print(cwd)\n",
    "\n",
    "# Determine the path (location on the harddrive) of the subfolder that contains our data files\n",
    "data_subfolder = \"congress_tweets\"\n",
    "\n",
    "# Combine the working directory name with the subfolder name.  Note that if you are on a Windows machine,\n",
    "# folder hierarchy is separated with a backslash (\\).  However, because in Python the backslash is\n",
    "# a special character, you actually need to use two backslashes (\\\\)\n",
    "# If you are on a Mac or a Linux computer, you need to use a forward slash (/)\n",
    "folder_path = cwd + \"/\" + data_subfolder \n",
    "print(folder_path)\n"
   ]
  },
  {
   "cell_type": "code",
   "execution_count": 9,
   "metadata": {},
   "outputs": [
    {
     "name": "stdout",
     "output_type": "stream",
     "text": [
      "/Users/dmitriyb/Box Sync/TEACHING/2017-2018/Python for Data Management and Analytics/Python Materials/06 - Reading and processing data from the web/congress_tweets/2018-01-24.json\n",
      "['956037956392890368', 'DeanHeller', '41363507', '2018-01-24T00:36:25-05:00', 'https://www.twitter.com/ChloeNews3LV/statuses/956032048254324741', 'RT @ChloeNews3LV GO KNIGHTS GO!!! 🏒✨ @GoldenKnights http://pbs.twimg.com/media/DUSCE1rW0AAzhlX.jpg', 'Twitter for iPhone']\n",
      "/Users/dmitriyb/Box Sync/TEACHING/2017-2018/Python for Data Management and Analytics/Python Materials/06 - Reading and processing data from the web/congress_tweets/2018-01-28.json\n",
      "['957488877631082501', 'RepTimRyan', '13491312', '2018-01-28T00:41:52-05:00', 'https://www.twitter.com/nowthisnews/statuses/957018565625827328', 'RT @nowthisnews Watch how insanely easy it is to hack U.S. voting machines http://pbs.twimg.com/media/DUfN4eIUMAATB1T.jpg https://video.twimg.com/amplify_video/956959196464930816/vid/240x240/hYJCknqHAFibdHpZ.mp4', 'Twitter for iPhone']\n",
      "/Users/dmitriyb/Box Sync/TEACHING/2017-2018/Python for Data Management and Analytics/Python Materials/06 - Reading and processing data from the web/congress_tweets/2018-02-02.json\n",
      "['959298139285942273', 'CongressmanRaja', '814179031956488192', '2018-02-02T00:31:13-05:00', 'https://www.twitter.com/CongressmanRaja/statuses/959298139285942273', '@donlemon So sorry to hear that, Don.', 'Twitter for iPhone']\n",
      "/Users/dmitriyb/Box Sync/TEACHING/2017-2018/Python for Data Management and Analytics/Python Materials/06 - Reading and processing data from the web/congress_tweets/2018-01-29.json\n",
      "['957847711298056192', 'auctnr1', '21572351', '2018-01-29T00:27:44-05:00', 'https://www.twitter.com/nbcwashington/statuses/957845854051807232', \"RT @nbcwashington Girl, 12, still in hospital one month after police say a carjacking suspect rammed into a family's minivan in Herndon, Virginia https://www.nbcwashington.com/news/local/12-Year-Old-Girl-Still-in-Hospital-Month-After-Suspect-Rammed-Into-Familys-Van-471587194.html?_osource=SocialFlowTwt_DCBrand http://pbs.twimg.com/media/DUrzui8W0AEUMOo.jpg\", 'Twitter for iPhone']\n",
      "/Users/dmitriyb/Box Sync/TEACHING/2017-2018/Python for Data Management and Analytics/Python Materials/06 - Reading and processing data from the web/congress_tweets/2018-01-25.json\n",
      "['956397768494399491', 'RepHanabusa', '235373000', '2018-01-25T00:26:11-05:00', 'https://www.twitter.com/RepHanabusa/statuses/956397768494399491', 'Talking about politics and governing in the era of Trump with @EJDionne &amp; Bill Dorman from @wearehpr Mahalo to the @DKIInstitute for hosting this important discussion. http://pbs.twimg.com/media/DUXOspJV4AAJF8J.jpg', 'Twitter for iPhone']\n",
      "/Users/dmitriyb/Box Sync/TEACHING/2017-2018/Python for Data Management and Analytics/Python Materials/06 - Reading and processing data from the web/congress_tweets/2018-02-04.json\n",
      "['960032244134903813', 'DeanHeller', '41363507', '2018-02-04T01:08:18-05:00', 'https://www.twitter.com/DeanHeller/statuses/960032244134903813', 'Loved seeing everyone at our hometown Lincoln Day dinner tonight in Lyon County! #HomeMeansNevada http://pbs.twimg.com/media/DVK4NUaVwAAWZrH.jpg http://pbs.twimg.com/media/DVK4NUvVMAAXMqr.jpg http://pbs.twimg.com/media/DVK4NU-U0AANrdX.jpg', 'Twitter for iPhone']\n",
      "/Users/dmitriyb/Box Sync/TEACHING/2017-2018/Python for Data Management and Analytics/Python Materials/06 - Reading and processing data from the web/congress_tweets/2018-02-05.json\n",
      "['960386678518005760', 'PramilaJayapal', '193441812', '2018-02-05T00:36:41-05:00', 'https://www.twitter.com/PramilaJayapal/statuses/960386678518005760', 'Amazing event tonight w/women champions @MsJodieEvans, @Janefonda &amp; Lauren Hutton. Dreaming &amp; acting for #NoWar,  #OneFairWage,  #ImmigrationReform,  &amp; creating a real democracy. Hopeful! http://pbs.twimg.com/media/DVP6lw4UMAAYaVQ.jpg', 'Twitter for iPhone']\n",
      "/Users/dmitriyb/Box Sync/TEACHING/2017-2018/Python for Data Management and Analytics/Python Materials/06 - Reading and processing data from the web/congress_tweets/2018-02-06.json\n",
      "['960742094607405056', 'RepJayapal', '815733290955112448', '2018-02-06T00:08:59-05:00', 'https://www.twitter.com/BlackGirlMagix/statuses/959888837601366023', \"RT @BlackGirlMagix #BlackHistoryMonth\\nToday, teach your children about Ruby Bridges. She was the first black child to attend at all-white public elementary school in the South.\\n\\nShe's only 63. Only, 63. http://pbs.twimg.com/media/DVI1spnWAAEK5iA.jpg\", 'Twitter for iPad']\n",
      "/Users/dmitriyb/Box Sync/TEACHING/2017-2018/Python for Data Management and Analytics/Python Materials/06 - Reading and processing data from the web/congress_tweets/2018-02-07.json\n",
      "['961115582111342592', 'JaredHuffman', '334894942', '2018-02-07T00:53:06-05:00', 'https://www.twitter.com/JaredHuffman/statuses/961115582111342592', 'Proud to be featured, along with 2 great congressional colleagues @carbajalsalud and @CardenasforCA. in the UCSB alumni magazine.  Go Gauchos! #UCSB  http://ucsbalum.com/Coastlines/2018/winter/feature_three_gauchos', 'Twitter Web Client']\n",
      "/Users/dmitriyb/Box Sync/TEACHING/2017-2018/Python for Data Management and Analytics/Python Materials/06 - Reading and processing data from the web/congress_tweets/2018-01-26.json\n",
      "['956765784398680065', 'RepKihuen', '816282029276938240', '2018-01-26T00:48:33-05:00', 'https://www.twitter.com/RepKihuen/statuses/956765784398680065', 'Great evening with friends at the @AIPAC Las Vegas dinner. It was a pleasure meeting Avi Issacharoff &amp; Lior Raz, co-creators of @FaudaOfficial. #AIPACDinner http://pbs.twimg.com/media/DUcdZ_sVMAEc5vE.jpg http://pbs.twimg.com/media/DUcdZ_xVoAArp46.jpg http://pbs.twimg.com/media/DUcdZ_sVQAAFvYp.jpg', 'Twitter for iPhone']\n",
      "/Users/dmitriyb/Box Sync/TEACHING/2017-2018/Python for Data Management and Analytics/Python Materials/06 - Reading and processing data from the web/congress_tweets/2018-01-30.json\n",
      "['958212683815374848', 'MurrayCampaign', '158470209', '2018-01-30T00:38:01-05:00', 'https://www.twitter.com/MurrayCampaign/statuses/958212683815374848', 'Leah turned her own painful experience into a personal mission to ensure others who experience sexual assault have the resources they need when they seek help. I’m amazed by Leah’s dedication &amp; I couldn’t be prouder to help lift up her voice in Congress.  http://komonews.com/news/local/local-sexual-assault-survivor-to-join-sen-patty-murray-in-dc-for-sotu', 'Sprout Social']\n",
      "/Users/dmitriyb/Box Sync/TEACHING/2017-2018/Python for Data Management and Analytics/Python Materials/06 - Reading and processing data from the web/congress_tweets/2018-02-01.json\n",
      "['958939298719588352', 'TeamPelosi', '2461810448', '2018-02-01T00:45:19-05:00', 'https://www.twitter.com/TeamPelosi/statuses/958939298719588352', 'This is more than a “Twitter moment.” https://twitter.com/twittermoments/status/958927006451683328 QT @TwitterMoments According to the @nytimes, a former Trump spokesman is expected to tell Robert Mueller about a conference call that led him to believe that Hope Hicks \"could be contemplating obstructing justice.\" https://twitter.com/i/moments/958916355587108866', 'Twitter for iPhone']\n",
      "/Users/dmitriyb/Box Sync/TEACHING/2017-2018/Python for Data Management and Analytics/Python Materials/06 - Reading and processing data from the web/congress_tweets/2018-01-31.json\n",
      "['958579825656164354', 'SenatorLankford', '225921757', '2018-01-31T00:56:54-05:00', 'https://www.twitter.com/SenatorLankford/statuses/958579825656164354', 'Remarkable #SOTU speech tonight from the @POTUS. In addition to touting #TaxReform &amp; growing economy, he highlighted the power of everyday people who changed the world by serving others. I also appreciate his call for Congress to embrace unity. https://www.lankford.senate.gov/news/press-releases/senator-lankford-statement-on-president-trumps-state-of-the-union-address', 'Twitter for iPhone']\n",
      "/Users/dmitriyb/Box Sync/TEACHING/2017-2018/Python for Data Management and Analytics/Python Materials/06 - Reading and processing data from the web/congress_tweets/2018-01-27.json\n",
      "['957125920959160320', 'LacyClayMO1', '584912320', '2018-01-27T00:39:36-05:00', 'https://www.twitter.com/mkraju/statuses/957032133348003845', 'RT @mkraju Feinstein fires off letters to a host of current and former White House aides, including Don McGahn, Sean Spicer and Stephen Miller, asking for documents and interviews in Russia probe', 'Twitter for iPad']\n"
     ]
    }
   ],
   "source": [
    "target_file = open(\"output.csv\", \"w\")\n",
    "csv_file = csv.writer(target_file)\n",
    "\n",
    "# Now we need to iterate through the list of files in our data subfolder\n",
    "for root_folder, subfolders, files in os.walk(folder_path):\n",
    "    for file_name in files:\n",
    "        file_path = root_folder + '/' + file_name\n",
    "        file = open(file_path, 'r', encoding=\"utf-8\")\n",
    "        tweet_data = json.load(file)\n",
    "        print(file_path)\n",
    "        for tweet in tweet_data[1:2]:\n",
    "            #print(\"______________________________\")\n",
    "            #print(\"ID: \" + tweet[\"id\"])\n",
    "            #print(\"Screen Name: \" + tweet[\"screen_name\"])\n",
    "            #print(\"User ID: \" + tweet[\"user_id\"])\n",
    "            #print(\"Time: \" + tweet[\"time\"])\n",
    "            #print(\"Text: \" + tweet[\"text\"])\n",
    "            #print(\"Source: \" + tweet[\"source\"])\n",
    "            \n",
    "            data_row = []\n",
    "            for key, val in tweet.items():\n",
    "                data_row.append(val)\n",
    "                \n",
    "            csv_file.writerow(data_row)"
   ]
  },
  {
   "cell_type": "code",
   "execution_count": 4,
   "metadata": {},
   "outputs": [
    {
     "ename": "NameError",
     "evalue": "name 'tweet_data' is not defined",
     "output_type": "error",
     "traceback": [
      "\u001b[0;31m---------------------------------------------------------------------------\u001b[0m",
      "\u001b[0;31mNameError\u001b[0m                                 Traceback (most recent call last)",
      "\u001b[0;32m<ipython-input-4-1dfc65ba8863>\u001b[0m in \u001b[0;36m<module>\u001b[0;34m()\u001b[0m\n\u001b[0;32m----> 1\u001b[0;31m \u001b[0mtweet_data\u001b[0m\u001b[0;34m\u001b[0m\u001b[0m\n\u001b[0m",
      "\u001b[0;31mNameError\u001b[0m: name 'tweet_data' is not defined"
     ]
    }
   ],
   "source": [
    "tweet_data"
   ]
  },
  {
   "cell_type": "code",
   "execution_count": null,
   "metadata": {
    "collapsed": true
   },
   "outputs": [],
   "source": []
  }
 ],
 "metadata": {
  "kernelspec": {
   "display_name": "Python 3",
   "language": "python",
   "name": "python3"
  },
  "language_info": {
   "codemirror_mode": {
    "name": "ipython",
    "version": 3
   },
   "file_extension": ".py",
   "mimetype": "text/x-python",
   "name": "python",
   "nbconvert_exporter": "python",
   "pygments_lexer": "ipython3",
   "version": "3.6.3"
  }
 },
 "nbformat": 4,
 "nbformat_minor": 2
}
