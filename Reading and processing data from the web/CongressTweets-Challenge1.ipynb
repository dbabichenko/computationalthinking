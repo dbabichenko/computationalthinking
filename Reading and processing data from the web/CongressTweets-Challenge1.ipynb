{
 "cells": [
  {
   "cell_type": "markdown",
   "metadata": {},
   "source": [
    "** Working with JSON data **\n",
    "\n",
    "JSON (JavaScript Object Notation) is a lightweight data-interchange format. It is easy for humans to read and write. It is easy for machines to parse and generate. JSON is a text format that is completely language independent but uses conventions that are familiar to programmers of the C-family of languages, including C, C++, C#, Java, JavaScript, Perl, Python, and many others. \n",
    "\n",
    "** Challenge 1 **\n",
    "\n",
    "Write a function that takes care of JSON parsing and converts a single tweet from JSON format to a comma-separated-values (csv) line.  \n",
    "\n",
    "1. This function should have the following signature:\n",
    "\n",
    "        def parse_json_tweet(tweet)\n",
    "2. The tweet argument will be a tweet extracted from the JSON data file\n",
    "3. The function will return a Python list with all the values contained in the tweet.  For example, if the tweet looks like\n",
    "        {\n",
    "            \"id\": \"956039366593470464\",\n",
    "            \"screen_name\": \"bob\",\n",
    "            \"user_id\": \"377609596\",\n",
    "            \"time\": \"2018-01-24T00:42:02-05:00\",\n",
    "            \"text\": \"Hello\",\n",
    "            \"source\": \"Twitter for iPhone\"\n",
    "        }\n",
    "    the output should look like\n",
    "        [\"956039366593470464\", \"bob\", \"377609596\", \"2018-01-24T00:42:02-05:00\", \"Hello\", \"Twitter for iPhone\"]\n",
    "        \n",
    "\n",
    "** Challenge 2 **\n",
    "\n",
    "Convert ALL provided JSON files into tabular format and save as a CSV file"
   ]
  },
  {
   "cell_type": "code",
   "execution_count": 10,
   "metadata": {
    "collapsed": true
   },
   "outputs": [],
   "source": [
    "import csv\n",
    "import os\n",
    "import json"
   ]
  },
  {
   "cell_type": "code",
   "execution_count": 11,
   "metadata": {},
   "outputs": [
    {
     "name": "stdout",
     "output_type": "stream",
     "text": [
      "/Users/dmitriyb/Box Sync/TEACHING/2017-2018/Python for Data Management and Analytics/Python Materials/06 - Reading and processing data from the web\n"
     ]
    }
   ],
   "source": [
    "# Get current working directory\n",
    "cwd = os.getcwd()\n",
    "print(cwd)\n",
    "\n",
    "# Determine the path (location on the harddrive) of the subfolder that contains our data files\n",
    "data_subfolder = \"congress_tweets\"\n",
    "\n",
    "# Combine the working directory name with the subfolder name.\n",
    "folder_path = cwd + \"/\" + data_subfolder \n",
    "\n"
   ]
  },
  {
   "cell_type": "code",
   "execution_count": 12,
   "metadata": {
    "collapsed": true
   },
   "outputs": [],
   "source": [
    "# Define function for converting tweet dictionaries to lists\n",
    "def parse_json_tweet(tweet):\n",
    "    # \"tal\" is an acronym that stands for \"tweet as list\"\n",
    "    tal = []\n",
    "    tal.append(str(tweet[\"id\"] + \"_\"))\n",
    "    tal.append(tweet[\"screen_name\"])\n",
    "    tal.append(tweet[\"user_id\"] + \"_\")\n",
    "    tal.append(tweet[\"time\"])\n",
    "    tal.append(tweet[\"text\"])\n",
    "    tal.append(tweet[\"source\"])\n",
    "    \n",
    "    return tal\n",
    "    \n",
    "    \n"
   ]
  },
  {
   "cell_type": "code",
   "execution_count": 14,
   "metadata": {},
   "outputs": [
    {
     "name": "stdout",
     "output_type": "stream",
     "text": [
      "DONE\n",
      "{'Twitter for iPhone': 1, 'Sprout Social': 1, 'Tweetbot for iΟS': 1, 'Twitter Web Client': 1, 'Twitter for iPad': 1, 'TweetDeck': 1, 'Twitter for Android': 1, 'Facebook': 1}\n"
     ]
    }
   ],
   "source": [
    "# Name of the output file\n",
    "out_filename = \"tweet_output.csv\"\n",
    "\n",
    "# We'll save the file in the working directory\n",
    "out_file = open(cwd + \"/\" + out_filename, \"w\", encoding=\"utf-8\")\n",
    "\n",
    "# Create a csv writer object\n",
    "writer = csv.writer(out_file)\n",
    "\n",
    "device = {}\n",
    "\n",
    "# Now we need to iterate through the list of files in our data subfolder\n",
    "for root_folder, subfolders, files in os.walk(folder_path):\n",
    "    for file_name in files:\n",
    "        file_path = root_folder + '/' + file_name\n",
    "        file = open(file_path, 'r', encoding=\"utf-8\")\n",
    "        tweet_data = json.load(file)\n",
    "        \n",
    "        for tweet in tweet_data[1:10]:\n",
    "            tweet_as_list = parse_json_tweet(tweet)\n",
    "            writer.writerow(tweet_as_list)\n",
    "            if tweet[\"source\"] in tweet.keys():\n",
    "                device[tweet[\"source\"]] += 1\n",
    "            else:\n",
    "                device[tweet[\"source\"]] = 1\n",
    "\n",
    "out_file.close()\n",
    "print(\"DONE\")\n",
    "\n",
    "print(device)"
   ]
  },
  {
   "cell_type": "code",
   "execution_count": null,
   "metadata": {
    "collapsed": true
   },
   "outputs": [],
   "source": []
  }
 ],
 "metadata": {
  "kernelspec": {
   "display_name": "Python 3",
   "language": "python",
   "name": "python3"
  },
  "language_info": {
   "codemirror_mode": {
    "name": "ipython",
    "version": 3
   },
   "file_extension": ".py",
   "mimetype": "text/x-python",
   "name": "python",
   "nbconvert_exporter": "python",
   "pygments_lexer": "ipython3",
   "version": "3.6.3"
  }
 },
 "nbformat": 4,
 "nbformat_minor": 2
}
